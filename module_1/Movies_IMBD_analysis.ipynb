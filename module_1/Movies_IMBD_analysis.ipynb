{
 "cells": [
  {
   "cell_type": "code",
   "execution_count": 1,
   "metadata": {
    "_cell_guid": "b1076dfc-b9ad-4769-8c92-a6c4dae69d19",
    "_uuid": "8f2839f25d086af736a60e9eeb907d3b93b6e0e5",
    "colab": {},
    "colab_type": "code",
    "id": "U2D2gTdJVp90"
   },
   "outputs": [],
   "source": [
    "import numpy as np\n",
    "import pandas as pd\n",
    "import seaborn as sns\n",
    "import matplotlib.pyplot as plt\n",
    "from collections import Counter\n",
    "from itertools import combinations"
   ]
  },
  {
   "cell_type": "code",
   "execution_count": 2,
   "metadata": {
    "_cell_guid": "79c7e3d0-c299-4dcb-8224-4455121ee9b0",
    "_uuid": "d629ff2d2480ee46fbb7e2d37f6b5fab8052498a",
    "colab": {},
    "colab_type": "code",
    "id": "oyGfxL3eVp9-",
    "scrolled": true
   },
   "outputs": [
    {
     "data": {
      "text/html": [
       "<div>\n",
       "<style scoped>\n",
       "    .dataframe tbody tr th:only-of-type {\n",
       "        vertical-align: middle;\n",
       "    }\n",
       "\n",
       "    .dataframe tbody tr th {\n",
       "        vertical-align: top;\n",
       "    }\n",
       "\n",
       "    .dataframe thead th {\n",
       "        text-align: right;\n",
       "    }\n",
       "</style>\n",
       "<table border=\"1\" class=\"dataframe\">\n",
       "  <thead>\n",
       "    <tr style=\"text-align: right;\">\n",
       "      <th></th>\n",
       "      <th>imdb_id</th>\n",
       "      <th>budget</th>\n",
       "      <th>revenue</th>\n",
       "      <th>original_title</th>\n",
       "      <th>cast</th>\n",
       "      <th>director</th>\n",
       "      <th>tagline</th>\n",
       "      <th>overview</th>\n",
       "      <th>runtime</th>\n",
       "      <th>genres</th>\n",
       "      <th>production_companies</th>\n",
       "      <th>release_date</th>\n",
       "      <th>vote_average</th>\n",
       "      <th>release_year</th>\n",
       "    </tr>\n",
       "  </thead>\n",
       "  <tbody>\n",
       "    <tr>\n",
       "      <th>369</th>\n",
       "      <td>tt1071812</td>\n",
       "      <td>25000000</td>\n",
       "      <td>20719451</td>\n",
       "      <td>Mao's Last Dancer</td>\n",
       "      <td>Chi Cao|Chengwu Guo|Wen Bin Huang|Joan Chen|Br...</td>\n",
       "      <td>Bruce Beresford</td>\n",
       "      <td>æœ€åŽçš„èˆžè€…</td>\n",
       "      <td>At the age of 11, Li was plucked from a poor C...</td>\n",
       "      <td>117</td>\n",
       "      <td>Drama|Romance</td>\n",
       "      <td>Great Scott Productions Pty. Ltd.</td>\n",
       "      <td>10/1/2009</td>\n",
       "      <td>6.7</td>\n",
       "      <td>2009</td>\n",
       "    </tr>\n",
       "    <tr>\n",
       "      <th>645</th>\n",
       "      <td>tt0770752</td>\n",
       "      <td>70000000</td>\n",
       "      <td>111231041</td>\n",
       "      <td>Fool's Gold</td>\n",
       "      <td>Matthew McConaughey|Kate Hudson|Donald Sutherl...</td>\n",
       "      <td>Andy Tennant</td>\n",
       "      <td>This February True Love Takes a Dive.</td>\n",
       "      <td>Charming but luckless treasure hunter Ben Finn...</td>\n",
       "      <td>112</td>\n",
       "      <td>Comedy</td>\n",
       "      <td>De Line Pictures|Warner Bros.</td>\n",
       "      <td>2/7/2008</td>\n",
       "      <td>5.3</td>\n",
       "      <td>2008</td>\n",
       "    </tr>\n",
       "    <tr>\n",
       "      <th>1888</th>\n",
       "      <td>tt0163676</td>\n",
       "      <td>15000000</td>\n",
       "      <td>5217498</td>\n",
       "      <td>The In Crowd</td>\n",
       "      <td>Susan Ward|Lori Heuring|Matthew Settle|Nathan ...</td>\n",
       "      <td>Mary Lambert</td>\n",
       "      <td>What would you do to get in?</td>\n",
       "      <td>A mentally disturbed young woman takes a job a...</td>\n",
       "      <td>105</td>\n",
       "      <td>Thriller</td>\n",
       "      <td>Warner Bros. Pictures</td>\n",
       "      <td>7/19/2000</td>\n",
       "      <td>5.2</td>\n",
       "      <td>2000</td>\n",
       "    </tr>\n",
       "    <tr>\n",
       "      <th>1048</th>\n",
       "      <td>tt1433811</td>\n",
       "      <td>10000000</td>\n",
       "      <td>3428048</td>\n",
       "      <td>Disconnect</td>\n",
       "      <td>Jason Bateman|Hope Davis|Frank Grillo|Paula Pa...</td>\n",
       "      <td>Henry Alex Rubin</td>\n",
       "      <td>Look up.</td>\n",
       "      <td>Disconnect interweaves multiple storylines abo...</td>\n",
       "      <td>115</td>\n",
       "      <td>Drama|Thriller</td>\n",
       "      <td>Lionsgate|Liddell Entertainment|LD Entertainme...</td>\n",
       "      <td>9/11/2012</td>\n",
       "      <td>6.7</td>\n",
       "      <td>2012</td>\n",
       "    </tr>\n",
       "    <tr>\n",
       "      <th>744</th>\n",
       "      <td>tt1411238</td>\n",
       "      <td>25000000</td>\n",
       "      <td>147780440</td>\n",
       "      <td>No Strings Attached</td>\n",
       "      <td>Natalie Portman|Ashton Kutcher|Greta Gerwig|Ke...</td>\n",
       "      <td>Ivan Reitman</td>\n",
       "      <td>Friendship has its benefits.</td>\n",
       "      <td>Emma is a busy doctor who sets up a seemingly ...</td>\n",
       "      <td>108</td>\n",
       "      <td>Comedy|Romance</td>\n",
       "      <td>Paramount Pictures|Spyglass Entertainment|Kata...</td>\n",
       "      <td>1/12/2011</td>\n",
       "      <td>6.1</td>\n",
       "      <td>2011</td>\n",
       "    </tr>\n",
       "  </tbody>\n",
       "</table>\n",
       "</div>"
      ],
      "text/plain": [
       "        imdb_id    budget    revenue       original_title  \\\n",
       "369   tt1071812  25000000   20719451    Mao's Last Dancer   \n",
       "645   tt0770752  70000000  111231041          Fool's Gold   \n",
       "1888  tt0163676  15000000    5217498         The In Crowd   \n",
       "1048  tt1433811  10000000    3428048           Disconnect   \n",
       "744   tt1411238  25000000  147780440  No Strings Attached   \n",
       "\n",
       "                                                   cast          director  \\\n",
       "369   Chi Cao|Chengwu Guo|Wen Bin Huang|Joan Chen|Br...   Bruce Beresford   \n",
       "645   Matthew McConaughey|Kate Hudson|Donald Sutherl...      Andy Tennant   \n",
       "1888  Susan Ward|Lori Heuring|Matthew Settle|Nathan ...      Mary Lambert   \n",
       "1048  Jason Bateman|Hope Davis|Frank Grillo|Paula Pa...  Henry Alex Rubin   \n",
       "744   Natalie Portman|Ashton Kutcher|Greta Gerwig|Ke...      Ivan Reitman   \n",
       "\n",
       "                                    tagline  \\\n",
       "369                          æœ€åŽçš„èˆžè€…   \n",
       "645   This February True Love Takes a Dive.   \n",
       "1888           What would you do to get in?   \n",
       "1048                               Look up.   \n",
       "744            Friendship has its benefits.   \n",
       "\n",
       "                                               overview  runtime  \\\n",
       "369   At the age of 11, Li was plucked from a poor C...      117   \n",
       "645   Charming but luckless treasure hunter Ben Finn...      112   \n",
       "1888  A mentally disturbed young woman takes a job a...      105   \n",
       "1048  Disconnect interweaves multiple storylines abo...      115   \n",
       "744   Emma is a busy doctor who sets up a seemingly ...      108   \n",
       "\n",
       "              genres                               production_companies  \\\n",
       "369    Drama|Romance                  Great Scott Productions Pty. Ltd.   \n",
       "645           Comedy                      De Line Pictures|Warner Bros.   \n",
       "1888        Thriller                              Warner Bros. Pictures   \n",
       "1048  Drama|Thriller  Lionsgate|Liddell Entertainment|LD Entertainme...   \n",
       "744   Comedy|Romance  Paramount Pictures|Spyglass Entertainment|Kata...   \n",
       "\n",
       "     release_date  vote_average  release_year  \n",
       "369     10/1/2009           6.7          2009  \n",
       "645      2/7/2008           5.3          2008  \n",
       "1888    7/19/2000           5.2          2000  \n",
       "1048    9/11/2012           6.7          2012  \n",
       "744     1/12/2011           6.1          2011  "
      ]
     },
     "execution_count": 2,
     "metadata": {},
     "output_type": "execute_result"
    }
   ],
   "source": [
    "data = pd.read_csv('movie_bd_v5.csv')\n",
    "data.sample(5)"
   ]
  },
  {
   "cell_type": "code",
   "execution_count": 3,
   "metadata": {
    "colab": {},
    "colab_type": "code",
    "id": "CoYUnagMVp-C"
   },
   "outputs": [
    {
     "data": {
      "text/html": [
       "<div>\n",
       "<style scoped>\n",
       "    .dataframe tbody tr th:only-of-type {\n",
       "        vertical-align: middle;\n",
       "    }\n",
       "\n",
       "    .dataframe tbody tr th {\n",
       "        vertical-align: top;\n",
       "    }\n",
       "\n",
       "    .dataframe thead th {\n",
       "        text-align: right;\n",
       "    }\n",
       "</style>\n",
       "<table border=\"1\" class=\"dataframe\">\n",
       "  <thead>\n",
       "    <tr style=\"text-align: right;\">\n",
       "      <th></th>\n",
       "      <th>budget</th>\n",
       "      <th>revenue</th>\n",
       "      <th>runtime</th>\n",
       "      <th>vote_average</th>\n",
       "      <th>release_year</th>\n",
       "    </tr>\n",
       "  </thead>\n",
       "  <tbody>\n",
       "    <tr>\n",
       "      <th>count</th>\n",
       "      <td>1.889000e+03</td>\n",
       "      <td>1.889000e+03</td>\n",
       "      <td>1889.000000</td>\n",
       "      <td>1889.000000</td>\n",
       "      <td>1889.000000</td>\n",
       "    </tr>\n",
       "    <tr>\n",
       "      <th>mean</th>\n",
       "      <td>5.431083e+07</td>\n",
       "      <td>1.553653e+08</td>\n",
       "      <td>109.658549</td>\n",
       "      <td>6.140762</td>\n",
       "      <td>2007.860773</td>\n",
       "    </tr>\n",
       "    <tr>\n",
       "      <th>std</th>\n",
       "      <td>4.858721e+07</td>\n",
       "      <td>2.146698e+08</td>\n",
       "      <td>18.017041</td>\n",
       "      <td>0.764763</td>\n",
       "      <td>4.468841</td>\n",
       "    </tr>\n",
       "    <tr>\n",
       "      <th>min</th>\n",
       "      <td>5.000000e+06</td>\n",
       "      <td>2.033165e+06</td>\n",
       "      <td>63.000000</td>\n",
       "      <td>3.300000</td>\n",
       "      <td>2000.000000</td>\n",
       "    </tr>\n",
       "    <tr>\n",
       "      <th>25%</th>\n",
       "      <td>2.000000e+07</td>\n",
       "      <td>3.456058e+07</td>\n",
       "      <td>97.000000</td>\n",
       "      <td>5.600000</td>\n",
       "      <td>2004.000000</td>\n",
       "    </tr>\n",
       "    <tr>\n",
       "      <th>50%</th>\n",
       "      <td>3.800000e+07</td>\n",
       "      <td>8.361541e+07</td>\n",
       "      <td>107.000000</td>\n",
       "      <td>6.100000</td>\n",
       "      <td>2008.000000</td>\n",
       "    </tr>\n",
       "    <tr>\n",
       "      <th>75%</th>\n",
       "      <td>7.200000e+07</td>\n",
       "      <td>1.782626e+08</td>\n",
       "      <td>120.000000</td>\n",
       "      <td>6.600000</td>\n",
       "      <td>2012.000000</td>\n",
       "    </tr>\n",
       "    <tr>\n",
       "      <th>max</th>\n",
       "      <td>3.800000e+08</td>\n",
       "      <td>2.781506e+09</td>\n",
       "      <td>214.000000</td>\n",
       "      <td>8.100000</td>\n",
       "      <td>2015.000000</td>\n",
       "    </tr>\n",
       "  </tbody>\n",
       "</table>\n",
       "</div>"
      ],
      "text/plain": [
       "             budget       revenue      runtime  vote_average  release_year\n",
       "count  1.889000e+03  1.889000e+03  1889.000000   1889.000000   1889.000000\n",
       "mean   5.431083e+07  1.553653e+08   109.658549      6.140762   2007.860773\n",
       "std    4.858721e+07  2.146698e+08    18.017041      0.764763      4.468841\n",
       "min    5.000000e+06  2.033165e+06    63.000000      3.300000   2000.000000\n",
       "25%    2.000000e+07  3.456058e+07    97.000000      5.600000   2004.000000\n",
       "50%    3.800000e+07  8.361541e+07   107.000000      6.100000   2008.000000\n",
       "75%    7.200000e+07  1.782626e+08   120.000000      6.600000   2012.000000\n",
       "max    3.800000e+08  2.781506e+09   214.000000      8.100000   2015.000000"
      ]
     },
     "execution_count": 3,
     "metadata": {},
     "output_type": "execute_result"
    }
   ],
   "source": [
    "data.describe()"
   ]
  },
  {
   "cell_type": "markdown",
   "metadata": {
    "colab_type": "text",
    "id": "DTIt7ezGVp-G"
   },
   "source": [
    "# Предобработка"
   ]
  },
  {
   "cell_type": "code",
   "execution_count": 4,
   "metadata": {
    "colab": {},
    "colab_type": "code",
    "id": "jNb40DwKVp-H"
   },
   "outputs": [],
   "source": [
    "answers = {} # создадим словарь для ответов\n",
    "\n",
    "# тут другие ваши предобработки колонок например:\n",
    "# вычисляем прибыль от фильма\n",
    "data['profit'] = data['revenue'] - data['budget']\n",
    "\n",
    "# вычисляем длину названия\n",
    "data['original_title_len'] = list(map(lambda x: len(x), data['original_title']))\n",
    "\n",
    "# вычисляем количество слов в описании\n",
    "data['overview_words'] = list(map(lambda x: len(x.split(' ')), data['overview']))\n",
    "\n",
    "# вычисляем месяц выпуска фильма\n",
    "data['release_month'] = list(map(lambda x: x.split('/')[0],data['release_date']))\n",
    "\n",
    "\n",
    "def get_unique_field_values(init_data, field_name):\n",
    "    \"\"\"возвращает уникальные значения заданного поля в котором значения разделены разделителем\"\"\"\n",
    "    \n",
    "    # собираем уникальные строки заданного поля \n",
    "    values_list = init_data[field_name].unique()\n",
    "    # превращаем строки с значениями в списки\n",
    "    values_splitted = map(lambda x: x.split('|'), values_list)\n",
    "\n",
    "    # генерируем список уникальных значений\n",
    "    unique_values = []\n",
    "    # собираем списки воедино\n",
    "    for value in values_splitted:\n",
    "        unique_values = [*unique_values, *value]\n",
    "    # выделяем уникальные значения списка\n",
    "    unique_values = set(unique_values)\n",
    "    \n",
    "    return list(unique_values)\n",
    "\n",
    "\n",
    "def get_genres_movies(init_data):\n",
    "    \"\"\"возвращает список жанров с количеством фильмов в них\"\"\"\n",
    "    \n",
    "    # возвращаем уникальный список жанров\n",
    "    unique_genres = get_unique_field_values(init_data,'genres')\n",
    "\n",
    "    # генерируем датафрейм с жанрами и количеством фильмов\n",
    "    df_unique_genres = pd.DataFrame(list(map(lambda x: [x, 0], unique_genres)),columns=['Genre','Movies'])\n",
    "\n",
    "    # подсчитываем количества фильмов в каждом жанре\n",
    "    for index, genre in df_unique_genres.iterrows():      \n",
    "        df_unique_genres.loc[df_unique_genres.Genre == genre['Genre'],'Movies'] \\\n",
    "            = init_data[init_data.genres.str.contains(genre['Genre'], na=False)].imdb_id.count()\n",
    "\n",
    "    return df_unique_genres\n",
    "\n",
    "def get_directors_movies(init_data):\n",
    "    \"\"\"возвращает список режисёров с количеством фильмов\"\"\"\n",
    "    \n",
    "    directors_movies = []\n",
    "    \n",
    "    # генерируем список уникальных режисёров\n",
    "    directors_list = get_unique_field_values(init_data,'director')\n",
    "    \n",
    "    # перебираем режисёров и считаем ими снятые фильмы\n",
    "    for director in directors_list:\n",
    "        # возвращаем режисёром снятые фильмы\n",
    "        movies = init_data[init_data.director.str.contains(director)]\n",
    "\n",
    "        # инициализируем количество снятых фильмов\n",
    "        movies_count = 0\n",
    "\n",
    "        # перебираем снятые фильмы\n",
    "        for index, movie in movies.iterrows():\n",
    "            # возвращаем список режисёров фильма\n",
    "            movie_dirs = movie.director.split('|')\n",
    "\n",
    "            # отфильтровываем список на наличие анализируемого режисёра\n",
    "            movie_dirs = list(filter(lambda x: x == director, movie_dirs))\n",
    "\n",
    "            if len(movie_dirs):\n",
    "                # режисёр присутствует в списке - увеличиваем количество снятых фильмов на единицу\n",
    "                movies_count += 1\n",
    "\n",
    "        # добавляем режисёра с количеством снятых фильмов в список\n",
    "        directors_movies.append((director,movies_count))\n",
    "    \n",
    "    return directors_movies\n",
    "\n",
    "\n",
    "\n",
    "#the time given in the dataset is in string format.\n",
    "#So we need to change this in datetime format\n",
    "# ..."
   ]
  },
  {
   "cell_type": "markdown",
   "metadata": {
    "colab_type": "text",
    "id": "YxZaH-nPVp-L"
   },
   "source": [
    "# 1. У какого фильма из списка самый большой бюджет?"
   ]
  },
  {
   "cell_type": "markdown",
   "metadata": {
    "colab_type": "text",
    "id": "Nd-G5gX6Vp-M"
   },
   "source": [
    "Использовать варианты ответов в коде решения запрещено.    \n",
    "Вы думаете и в жизни у вас будут варианты ответов?)"
   ]
  },
  {
   "cell_type": "code",
   "execution_count": 5,
   "metadata": {
    "colab": {},
    "colab_type": "code",
    "id": "uVnXAY5RVp-O"
   },
   "outputs": [],
   "source": [
    "# в словарь вставляем номер вопроса и ваш ответ на него\n",
    "# Пример: \n",
    "# answers['1'] = '2. Spider-Man 3 (tt0413300)'\n",
    "# запишите свой вариант ответа\n",
    "answers['1'] = data.loc[data.budget == data.budget.max()].iloc[0].original_title\n",
    "# если ответили верно, можете добавить комментарий со значком \"+\""
   ]
  },
  {
   "cell_type": "code",
   "execution_count": 6,
   "metadata": {
    "colab": {},
    "colab_type": "code",
    "id": "dZwb3m28Vp-S"
   },
   "outputs": [
    {
     "data": {
      "text/plain": [
       "'Pirates of the Caribbean: On Stranger Tides'"
      ]
     },
     "execution_count": 6,
     "metadata": {},
     "output_type": "execute_result"
    }
   ],
   "source": [
    "# тут пишем ваш код для решения данного вопроса:\n",
    "# отфильтровываем данные где бюджет равен максимальному значению бюджета и берём первое значение\n",
    "data.loc[data.budget == data.budget.max()].iloc[0].original_title"
   ]
  },
  {
   "cell_type": "markdown",
   "metadata": {
    "colab_type": "text",
    "id": "K7L3nbRXVp-X"
   },
   "source": [
    "ВАРИАНТ 2"
   ]
  },
  {
   "cell_type": "code",
   "execution_count": 7,
   "metadata": {
    "colab": {},
    "colab_type": "code",
    "id": "OGaoQI7rVp-X"
   },
   "outputs": [
    {
     "data": {
      "text/plain": [
       "'Pirates of the Caribbean: On Stranger Tides'"
      ]
     },
     "execution_count": 7,
     "metadata": {},
     "output_type": "execute_result"
    }
   ],
   "source": [
    "# можно добавлять разные варианты решения\n",
    "# сортируем данные по бюджету в убывающем порядке и берём первый элемент как ответ\n",
    "sorted_data = data.sort_values(['budget'],ascending=False)\n",
    "sorted_data.iloc[0].original_title"
   ]
  },
  {
   "cell_type": "markdown",
   "metadata": {
    "colab_type": "text",
    "id": "FNRbbI3vVp-c"
   },
   "source": [
    "# 2. Какой из фильмов самый длительный (в минутах)?"
   ]
  },
  {
   "cell_type": "code",
   "execution_count": 8,
   "metadata": {
    "colab": {},
    "colab_type": "code",
    "id": "vHAoEXNTVp-d"
   },
   "outputs": [],
   "source": [
    "# думаю логику работы с этим словарем вы уже поняли, \n",
    "# по этому не буду больше его дублировать\n",
    "# отфильтровываем данные по продолжительности и выбираем строку с длиннейшей продолжительностью\n",
    "answers['2'] = data.loc[data.runtime == data.runtime.max()].iloc[0].original_title"
   ]
  },
  {
   "cell_type": "code",
   "execution_count": 9,
   "metadata": {
    "colab": {},
    "colab_type": "code",
    "id": "ot-VX2XrVp-g"
   },
   "outputs": [
    {
     "data": {
      "text/plain": [
       "'Gods and Generals'"
      ]
     },
     "execution_count": 9,
     "metadata": {},
     "output_type": "execute_result"
    }
   ],
   "source": [
    "data.loc[data.runtime == data.runtime.max()].iloc[0].original_title"
   ]
  },
  {
   "cell_type": "markdown",
   "metadata": {
    "colab_type": "text",
    "id": "bapLlpW8Vp-k"
   },
   "source": [
    "# 3. Какой из фильмов самый короткий (в минутах)?\n",
    "\n",
    "\n",
    "\n"
   ]
  },
  {
   "cell_type": "code",
   "execution_count": 10,
   "metadata": {
    "colab": {},
    "colab_type": "code",
    "id": "YBxaSHuAVp-l"
   },
   "outputs": [],
   "source": [
    "# отфильтровываем данные по продолжительности и выбираем строку с наикротчайшей продолжительностью\n",
    "answers['3'] = str(data.loc[data.runtime == data.runtime.min()].iloc[0].original_title)\n"
   ]
  },
  {
   "cell_type": "code",
   "execution_count": 11,
   "metadata": {},
   "outputs": [
    {
     "data": {
      "text/plain": [
       "'Winnie the Pooh'"
      ]
     },
     "execution_count": 11,
     "metadata": {},
     "output_type": "execute_result"
    }
   ],
   "source": [
    "data.loc[data.runtime == data.runtime.min()].iloc[0].original_title"
   ]
  },
  {
   "cell_type": "markdown",
   "metadata": {
    "colab_type": "text",
    "id": "TfQbxbfNVp-p"
   },
   "source": [
    "# 4. Какова средняя длительность фильмов?\n"
   ]
  },
  {
   "cell_type": "code",
   "execution_count": 12,
   "metadata": {
    "colab": {},
    "colab_type": "code",
    "id": "5K6dKZYVVp-q"
   },
   "outputs": [],
   "source": [
    "# вычисляем среднее значение продолжительности\n",
    "answers['4'] = str(np.round(data.runtime.mean(),0))\n"
   ]
  },
  {
   "cell_type": "markdown",
   "metadata": {
    "colab_type": "text",
    "id": "r5TvbnT_Vp-u"
   },
   "source": [
    "# 5. Каково медианное значение длительности фильмов? "
   ]
  },
  {
   "cell_type": "code",
   "execution_count": 13,
   "metadata": {
    "colab": {},
    "colab_type": "code",
    "id": "iBROplKnVp-v"
   },
   "outputs": [],
   "source": [
    "# вычисляем медиану продолжительности фильмов\n",
    "answers['5'] = str(np.round(data.runtime.median(),0))"
   ]
  },
  {
   "cell_type": "markdown",
   "metadata": {
    "colab_type": "text",
    "id": "39P-deDSVp-y"
   },
   "source": [
    "# 6. Какой самый прибыльный фильм?\n",
    "#### Внимание! Здесь и далее под «прибылью» или «убытками» понимается разность между сборами и бюджетом фильма. (прибыль = сборы - бюджет) в нашем датасете это будет (profit = revenue - budget) "
   ]
  },
  {
   "cell_type": "code",
   "execution_count": 14,
   "metadata": {
    "colab": {},
    "colab_type": "code",
    "id": "UYZh4T9WVp-y"
   },
   "outputs": [],
   "source": [
    "# лучше код получения столбца profit вынести в Предобработку что в начале\n",
    "# отфильтровываем данные по прибыли и выбираем строку с максимальным значением прибыли\n",
    "answers['6'] = data[data.profit == data.profit.max()].iloc[0].original_title"
   ]
  },
  {
   "cell_type": "markdown",
   "metadata": {
    "colab_type": "text",
    "id": "M99JmIX4Vp-2"
   },
   "source": [
    "# 7. Какой фильм самый убыточный? "
   ]
  },
  {
   "cell_type": "code",
   "execution_count": 15,
   "metadata": {
    "colab": {},
    "colab_type": "code",
    "id": "w-D2m4XPVp-3"
   },
   "outputs": [],
   "source": [
    "# отфильтровываем данные по прибыли и выбираем строку с минимальным значением прибыли\n",
    "answers['7'] = data[data.profit == data.profit.min()].iloc[0].original_title"
   ]
  },
  {
   "cell_type": "markdown",
   "metadata": {
    "colab_type": "text",
    "id": "wEOM5ERVVp-6"
   },
   "source": [
    "# 8. У скольких фильмов из датасета объем сборов оказался выше бюджета?"
   ]
  },
  {
   "cell_type": "code",
   "execution_count": 16,
   "metadata": {
    "colab": {},
    "colab_type": "code",
    "id": "y00_7HD6Vp-7"
   },
   "outputs": [],
   "source": [
    "\"\"\"\n",
    "отфильтровываем данные по прибыли и выбираем строки где прибыль больше нуля. \n",
    "В конце подсчитываем количество строк\"\"\"\n",
    "answers['8'] = data[data.profit > 0].imdb_id.count()"
   ]
  },
  {
   "cell_type": "markdown",
   "metadata": {
    "colab_type": "text",
    "id": "xhpspA9KVp_A"
   },
   "source": [
    "# 9. Какой фильм оказался самым кассовым в 2008 году?"
   ]
  },
  {
   "cell_type": "code",
   "execution_count": 17,
   "metadata": {
    "colab": {},
    "colab_type": "code",
    "id": "MoUyQr9RVp_B"
   },
   "outputs": [],
   "source": [
    "# отбираем фильмы 2008 года\n",
    "movies_2008 = data[data.release_year == 2008]\n",
    "\n",
    "# отфильтровываем фильмы 2008 года по кассовым сборам и находим строку с максимальными сборами\n",
    "answers['9'] = movies_2008[movies_2008.revenue == movies_2008.revenue.max()].iloc[0].original_title"
   ]
  },
  {
   "cell_type": "markdown",
   "metadata": {
    "colab_type": "text",
    "id": "Zi4hDKidVp_F"
   },
   "source": [
    "# 10. Самый убыточный фильм за период с 2012 по 2014 г. (включительно)?\n"
   ]
  },
  {
   "cell_type": "code",
   "execution_count": 18,
   "metadata": {
    "colab": {},
    "colab_type": "code",
    "id": "XqyRmufJVp_F"
   },
   "outputs": [],
   "source": [
    "# отбираем фильмы 2012 - 2014 годов\n",
    "mv_2012_2014 = data[(data.release_year >= 2012) & (data.release_year <= 2014)]\n",
    "\n",
    "# отфильтровываем фильмы 2012 - 2014 годов по прибыли и находим строку с минимальной прибылью\n",
    "answers['10'] = mv_2012_2014[mv_2012_2014.profit == mv_2012_2014.profit.min()].iloc[0].original_title"
   ]
  },
  {
   "cell_type": "markdown",
   "metadata": {
    "colab_type": "text",
    "id": "EA7Sa9dkVp_I"
   },
   "source": [
    "# 11. Какого жанра фильмов больше всего?"
   ]
  },
  {
   "cell_type": "code",
   "execution_count": 19,
   "metadata": {
    "colab": {},
    "colab_type": "code",
    "id": "zsJAwJ8QVp_J",
    "scrolled": true
   },
   "outputs": [],
   "source": [
    "# эту задачу тоже можно решать разными подходами, попробуй реализовать разные варианты\n",
    "# если будешь добавлять функцию - выноси ее в предобработку что в начале\n",
    "\n",
    "# генерируем датафрейм с жанрами и количеством фильмов\n",
    "df_unique_genres = get_genres_movies(data)\n",
    "\n",
    "# записываем ответ    \n",
    "answers['11'] = df_unique_genres.sort_values('Movies',ascending=False).iloc[0]['Genre']"
   ]
  },
  {
   "cell_type": "markdown",
   "metadata": {
    "colab_type": "text",
    "id": "Ax6g2C8SVp_M"
   },
   "source": [
    "ВАРИАНТ 2"
   ]
  },
  {
   "cell_type": "code",
   "execution_count": 20,
   "metadata": {
    "colab": {},
    "colab_type": "code",
    "id": "otO3SbrSVp_N"
   },
   "outputs": [],
   "source": [
    "# инициализируем список жанров с количеством фильмов в них\n",
    "genres_movies_counts = []\n",
    "\n",
    "# перебираем весь датафрейм с начальными данными\n",
    "for index, movie in data.iterrows():\n",
    "    # генерируем список жанров из поля с жанрами разделёнными |\n",
    "    genres_list = movie.genres.split('|')\n",
    "    \n",
    "    # перебираем полученный список жанров фильма\n",
    "    for gen in genres_list:\n",
    "        # ищем жанр в списке жанров с количеством фильмов в них\n",
    "        genre_idx = next((i for i, v in enumerate(genres_movies_counts) if v[0] == gen), None)\n",
    "        \n",
    "        # жанра в списке нет - добавляем его с колчеством фильмов равным 0\n",
    "        if genre_idx == None:\n",
    "            genres_movies_counts.append((gen,0))\n",
    "            # опять считываем индекс жанра в списке жанров с количеством фильмов в них\n",
    "            genre_idx = next((i for i, v in enumerate(genres_movies_counts) if v[0] == gen), None)\n",
    "                \n",
    "        \"\"\"индекс жанра найден - прибавляем 1 к количеству фильмов в нём \n",
    "        путём создания нового объекта типа tuple \n",
    "        с названием жанра и увеличенным на единицу количеством фильмов\"\"\"\n",
    "        genres_movies_counts[genre_idx] = (genres_movies_counts[genre_idx][0],genres_movies_counts[genre_idx][1] + 1)\n",
    "\n",
    "# сортируем список жанров по количеству фильмов в них по убыванию\n",
    "genres_movies_counts.sort(key=lambda x: x[1] * -1)        \n",
    "# первый элемент списка является ответом на вопрос\n",
    "answers['11'] = genres_movies_counts[0][0]\n",
    "        "
   ]
  },
  {
   "cell_type": "markdown",
   "metadata": {
    "colab_type": "text",
    "id": "T9_bPWpkVp_Q"
   },
   "source": [
    "# 12. Фильмы какого жанра чаще всего становятся прибыльными? "
   ]
  },
  {
   "cell_type": "code",
   "execution_count": 21,
   "metadata": {
    "colab": {},
    "colab_type": "code",
    "id": "Tmt8MaK1Vp_R",
    "scrolled": true
   },
   "outputs": [],
   "source": [
    "# выбираем прибыльные фильмы и считаем их колчество по жанрам\n",
    "profitable_movies = get_genres_movies(data[data.profit > 0])\n",
    "\n",
    "# сортируем список по колчиеству фильмов в убывающем порядке и выбираем первый элемент\n",
    "answers['12'] = profitable_movies.sort_values('Movies',ascending=False).iloc[0]['Genre']"
   ]
  },
  {
   "cell_type": "markdown",
   "metadata": {
    "colab_type": "text",
    "id": "0F23bgsDVp_U"
   },
   "source": [
    "# 13. У какого режиссера самые большие суммарные кассовые сборы?"
   ]
  },
  {
   "cell_type": "code",
   "execution_count": 22,
   "metadata": {
    "colab": {},
    "colab_type": "code",
    "id": "K6Z3J8ygVp_X"
   },
   "outputs": [],
   "source": [
    "# собираем список уникальных режисёров\n",
    "directors_list = get_unique_field_values(data,'director')\n",
    "\n",
    "# инициализируем список режисёров с кассовыми сборами\n",
    "directors_revenues = []\n",
    "\n",
    "for director in directors_list:\n",
    "    # подсчитываем кассовые сборы режисёра\n",
    "    directors_revenues.append((director,data[data.director.str.contains(director)].revenue.sum()))\n",
    "                                       \n",
    "# сортируем список режисёров с кассовыми сборами по сборам в убывающем порядке    \n",
    "directors_revenues.sort(key=lambda x: x[1] * -1)    \n",
    "\n",
    "# записываем ответ\n",
    "answers['13'] = directors_revenues[0][0]\n"
   ]
  },
  {
   "cell_type": "markdown",
   "metadata": {
    "colab_type": "text",
    "id": "PsYC9FgRVp_a"
   },
   "source": [
    "# 14. Какой режисер снял больше всего фильмов в стиле Action?"
   ]
  },
  {
   "cell_type": "code",
   "execution_count": 23,
   "metadata": {
    "colab": {},
    "colab_type": "code",
    "id": "wd2M-wHeVp_b"
   },
   "outputs": [],
   "source": [
    "# собираем фильмы в жанре Action\n",
    "action_movies = data[data.genres.str.contains('Action')]\n",
    "\n",
    "# собираем список режисёров, снимавших фильмы в жанре Action\n",
    "directors_list = get_unique_field_values(action_movies,'director')\n",
    "\n",
    "# инициализируем список режисёров со снятыми фильмами\n",
    "directors_movies = get_directors_movies(action_movies)\n",
    "\n",
    "# сортируем список по количеству фильмов    \n",
    "directors_movies.sort(key=lambda x: x[1] * -1)\n",
    "\n",
    "# первый элемент является ответом на вопрос\n",
    "answers['14'] = directors_movies[0][0]"
   ]
  },
  {
   "cell_type": "markdown",
   "metadata": {},
   "source": [
    "Вариант 2"
   ]
  },
  {
   "cell_type": "code",
   "execution_count": 70,
   "metadata": {},
   "outputs": [],
   "source": [
    "# собираем фильмы в жанре Action\n",
    "action_movies = data[data.genres.str.contains('Action')].copy()\n",
    "\n",
    "# превращаем строку режисёров с разделителем на список\n",
    "action_movies['director'] = action_movies.director.str.split('|')\n",
    "\n",
    "# добавляем строки для списка режисёров в каждой строке изначальных данных\n",
    "action_movies = action_movies.explode('director')\n",
    "\n",
    "# создаём сводную таблицу по режисёрам и сборам\n",
    "data_pivot = action_movies.pivot_table(index='director', values='imdb_id', aggfunc='count')\n",
    "\n",
    "# сортируем сводную ьаблицу по количеству фильмов в убывающем порядке\n",
    "data_pivot = data_pivot.sort_values(by='imdb_id', ascending=False)\n",
    "\n",
    "# первый элемент и есть ответ\n",
    "answers['14'] = data_pivot.iloc[0].name"
   ]
  },
  {
   "cell_type": "markdown",
   "metadata": {
    "colab_type": "text",
    "id": "PQ0KciD7Vp_f"
   },
   "source": [
    "# 15. Фильмы с каким актером принесли самые высокие кассовые сборы в 2012 году? "
   ]
  },
  {
   "cell_type": "code",
   "execution_count": 60,
   "metadata": {
    "colab": {},
    "colab_type": "code",
    "id": "aga62oeKVp_g"
   },
   "outputs": [],
   "source": [
    "# возвращаем список фильмов 2012 года\n",
    "movies_2012 = data[data.release_year == 2012].copy()\n",
    "\n",
    "# превращаем строку актёров с разделителем на список\n",
    "movies_2012['cast'] = movies_2012.cast.str.split('|')\n",
    "\n",
    "# добавляем строки для списка актёров в каждой строке изначальных данных\n",
    "movies_2012 = movies_2012.explode('cast')\n",
    "\n",
    "# создаём сводную таблицу по актёрам и сборам\n",
    "data_pivot = movies_2012.pivot_table(index='cast', values='revenue', aggfunc='sum')\n",
    "\n",
    "# сортируем сводную ьаблицу по сборам в убывающем порядке\n",
    "data_pivot = data_pivot.sort_values(by='revenue', ascending=False)\n",
    "\n",
    "# первый элемент и есть ответ\n",
    "answers['15'] = data_pivot.iloc[0].name\n",
    "\n",
    "\n"
   ]
  },
  {
   "cell_type": "markdown",
   "metadata": {},
   "source": [
    "Вариант 2"
   ]
  },
  {
   "cell_type": "code",
   "execution_count": 61,
   "metadata": {},
   "outputs": [],
   "source": [
    "# возвращаем список фильмов 2012 года\n",
    "movies_2012 = data[data.release_year == 2012].copy()\n",
    "\n",
    "# собираем список актёров из отфильтрованного списка фильмов 2012 года\n",
    "actors_list = get_unique_field_values(movies_2012,'cast')\n",
    "\n",
    "# инициализация конечного списка с актёрами и сборами\n",
    "actors_revenues = []\n",
    "\n",
    "# перебираем список актёров\n",
    "for actor in actors_list:    \n",
    "    # подсчитываем кассовые сборы актёра в 2012 году\n",
    "    actors_revenues.append((actor,data[(data.release_year == 2012) \\\n",
    "                                       & (data.cast.str.contains(actor))].revenue.sum()))\n",
    "    \n",
    "# сортируем список актёров с кассовыми сборами по сборам в убывающем порядке\n",
    "actors_revenues.sort(key=lambda x: x[1] * -1)    \n",
    "\n",
    "# записываем ответ\n",
    "answers['15'] = actors_revenues[0][0]"
   ]
  },
  {
   "cell_type": "markdown",
   "metadata": {
    "colab_type": "text",
    "id": "mWHyyL7QVp_j"
   },
   "source": [
    "# 16. Какой актер снялся в большем количестве высокобюджетных фильмов?"
   ]
  },
  {
   "cell_type": "code",
   "execution_count": 25,
   "metadata": {
    "colab": {},
    "colab_type": "code",
    "id": "qQtmHKTFVp_k"
   },
   "outputs": [],
   "source": [
    "# находим высокобюджетные фильмы\n",
    "hb_movies = data[data.budget > data.budget.mean()]\n",
    "\n",
    "# находим высокобюджетных фильмов актёров\n",
    "actors_list = get_unique_field_values(hb_movies,'cast')\n",
    "\n",
    "# инициализируем конечный список актёров с количеством фильмов\n",
    "actors_movies = []\n",
    "\n",
    "for actor in actors_list:\n",
    "    # перебираем список актёров и добавляем актёров с количеством фильмов в конечный список\n",
    "    actors_movies.append((actor,hb_movies[hb_movies.cast.str.contains(actor)].imdb_id.count()))\n",
    "    \n",
    "# сортируем конечный список по количеству фильмов    \n",
    "actors_movies.sort(key=lambda x: x[1] * -1)    \n",
    "\n",
    "# первый элемент списка является ответом на вопрос\n",
    "answers['16'] = actors_movies[0][0]"
   ]
  },
  {
   "cell_type": "markdown",
   "metadata": {},
   "source": [
    "Вариант 2"
   ]
  },
  {
   "cell_type": "code",
   "execution_count": 65,
   "metadata": {},
   "outputs": [
    {
     "data": {
      "text/plain": [
       "'Matt Damon'"
      ]
     },
     "execution_count": 65,
     "metadata": {},
     "output_type": "execute_result"
    }
   ],
   "source": [
    "# находим высокобюджетные фильмы\n",
    "hb_movies = data[data.budget > data.budget.mean()].copy()\n",
    "\n",
    "# превращаем строку актёров с разделителем на список\n",
    "hb_movies['cast'] = hb_movies.cast.str.split('|')\n",
    "\n",
    "# добавляем строки для списка актёров в каждой строке изначальных данных\n",
    "hb_movies = hb_movies.explode('cast')\n",
    "\n",
    "# создаём сводную таблицу по актёрам и количеству фильмов\n",
    "data_pivot = hb_movies.pivot_table(index='cast', values='imdb_id', aggfunc='count')\n",
    "\n",
    "# сортируем сводную ьаблицу по количеству фильмов в убывающем порядке\n",
    "data_pivot = data_pivot.sort_values(by='imdb_id', ascending=False)\n",
    "\n",
    "answers['16'] = data_pivot.iloc[0].name"
   ]
  },
  {
   "cell_type": "markdown",
   "metadata": {
    "colab_type": "text",
    "id": "NIh6AaW5Vp_n"
   },
   "source": [
    "# 17. В фильмах какого жанра больше всего снимался Nicolas Cage? "
   ]
  },
  {
   "cell_type": "code",
   "execution_count": 26,
   "metadata": {
    "colab": {},
    "colab_type": "code",
    "id": "H74SJDIBVp_n"
   },
   "outputs": [],
   "source": [
    "# выбираем фильмы с участием актёра Nicolas Cage\n",
    "nc_movies = data[data.cast.str.contains('Nicolas Cage')]\n",
    "\n",
    "\"\"\"\n",
    "генерируем список жанров с количеством фильмов из списка фильмов с участием актёра Nicolas Cage.\n",
    "сортируем полученный список и выбираем первый элемент как ответ\n",
    "\"\"\"\n",
    "answers['17'] = get_genres_movies(nc_movies).sort_values('Movies',ascending=False).iloc[0]['Genre']\n"
   ]
  },
  {
   "cell_type": "markdown",
   "metadata": {
    "colab_type": "text",
    "id": "RqOmPRfWVp_q"
   },
   "source": [
    "# 18. Самый убыточный фильм от Paramount Pictures"
   ]
  },
  {
   "cell_type": "code",
   "execution_count": 27,
   "metadata": {
    "colab": {},
    "colab_type": "code",
    "id": "9E_B0Y96Vp_r"
   },
   "outputs": [],
   "source": [
    "# собираем фильмы от Paramount Pictures\n",
    "pp_movies = data[data.production_companies.str.contains('Paramount Pictures')]\n",
    "\n",
    "# записываем ответ (название фильма с минимальной прибылью)\n",
    "answers['18'] = pp_movies[pp_movies['profit'] == pp_movies.profit.min()].original_title.iloc[0]\n"
   ]
  },
  {
   "cell_type": "markdown",
   "metadata": {
    "colab_type": "text",
    "id": "vS8Ur6ddVp_u"
   },
   "source": [
    "# 19. Какой год стал самым успешным по суммарным кассовым сборам?"
   ]
  },
  {
   "cell_type": "code",
   "execution_count": 28,
   "metadata": {
    "colab": {},
    "colab_type": "code",
    "id": "Dnbt4GdIVp_v"
   },
   "outputs": [],
   "source": [
    "# вычисляем сумарные сборы по годам\n",
    "revenues = data.groupby(['release_year']).sum()\n",
    "\n",
    "# записываем ответ (ключ строки с наибольшими кассовыми сборами)\n",
    "answers['19'] = revenues[revenues.revenue == revenues.revenue.max()].index[0]\n",
    "\n"
   ]
  },
  {
   "cell_type": "markdown",
   "metadata": {
    "colab_type": "text",
    "id": "JAzJh4QAVp_z"
   },
   "source": [
    "# 20. Какой самый прибыльный год для студии Warner Bros?"
   ]
  },
  {
   "cell_type": "code",
   "execution_count": 29,
   "metadata": {
    "colab": {},
    "colab_type": "code",
    "id": "wgVu02DEVp_0"
   },
   "outputs": [],
   "source": [
    "# собираем фильмы от Warner Bros\n",
    "wb_movies = data[data.production_companies.str.contains('Warner Bros')]\n",
    "\n",
    "# группируем по годам и вычисляем суммы значений (сборы, прибыль и др.)\n",
    "profits_by_years = wb_movies.groupby(['release_year']).sum()\n",
    "\n",
    "# отфильтровываем сгруппированный список по прибыли и выбираем строку с максимальной прибылью\n",
    "answers['20'] = profits_by_years[profits_by_years.profit == profits_by_years.profit.max()].index[0]\n"
   ]
  },
  {
   "cell_type": "markdown",
   "metadata": {
    "colab_type": "text",
    "id": "8Im1S2HRVp_4"
   },
   "source": [
    "# 21. В каком месяце за все годы суммарно вышло больше всего фильмов?"
   ]
  },
  {
   "cell_type": "code",
   "execution_count": 30,
   "metadata": {
    "colab": {},
    "colab_type": "code",
    "id": "lev6TH7gVp_4"
   },
   "outputs": [],
   "source": [
    "# группируем фильмы по месяцам и подсчитываем количество фильмов в каждом месяце\n",
    "movies_by_months = data.groupby(['release_month']).count()\n",
    "\n",
    "# отфильтровываем сгруппированные данные по количеству ид фильмов и выбираем строку с максимальным значением\n",
    "answers['21'] = movies_by_months[movies_by_months.imdb_id == movies_by_months.imdb_id.max()].index[0]\n"
   ]
  },
  {
   "cell_type": "markdown",
   "metadata": {
    "colab_type": "text",
    "id": "uAJsZ_NeVp_7"
   },
   "source": [
    "# 22. Сколько суммарно вышло фильмов летом? (за июнь, июль, август)"
   ]
  },
  {
   "cell_type": "code",
   "execution_count": 31,
   "metadata": {
    "colab": {},
    "colab_type": "code",
    "id": "Aa-hEREoVp_8"
   },
   "outputs": [],
   "source": [
    "# выбираем фильмы выпущеные в летние месяцы (с июня по август)\n",
    "summer_movies = data[(data.release_month == '6') | (data.release_month == '7') | (data.release_month == '8')]\n",
    "\n",
    "# подсчитываем количество ид фильмов\n",
    "answers['22'] = summer_movies.imdb_id.count()\n"
   ]
  },
  {
   "cell_type": "markdown",
   "metadata": {
    "colab_type": "text",
    "id": "G94ppOY1VqAA"
   },
   "source": [
    "# 23. Для какого режиссера зима – самое продуктивное время года? "
   ]
  },
  {
   "cell_type": "code",
   "execution_count": 32,
   "metadata": {
    "colab": {},
    "colab_type": "code",
    "id": "RhNTsamuVqAB"
   },
   "outputs": [],
   "source": [
    "# выбираем в зимнее время выпущенные фильмы (с декабря по февраль)\n",
    "winter_movies = data[(data.release_month == '12') | (data.release_month == '1') | (data.release_month == '2')]\n",
    "\n",
    "# генерируем список режисёров с количеством снятых фильмов из зимой снятых фильмов\n",
    "dir_winter_movies = get_directors_movies(winter_movies)\n",
    "\n",
    "# сортируем сгенерированный список по количеству фильмов в убывающем порядке\n",
    "dir_winter_movies.sort(key=lambda x: x[1] * -1)\n",
    "\n",
    "# записываем ответ\n",
    "answers['23'] = dir_winter_movies[0][0]\n",
    "\n",
    "\n"
   ]
  },
  {
   "cell_type": "markdown",
   "metadata": {
    "colab_type": "text",
    "id": "RBo0JVjVVqAF"
   },
   "source": [
    "# 24. Какая студия дает самые длинные названия своим фильмам по количеству символов?"
   ]
  },
  {
   "cell_type": "code",
   "execution_count": 33,
   "metadata": {
    "colab": {},
    "colab_type": "code",
    "id": "QRGS8L0iVqAG"
   },
   "outputs": [],
   "source": [
    "# копируем начальные данные\n",
    "data_24 = data.copy()\n",
    "\n",
    "# превращаем строчный список компаний в список\n",
    "data_24['production_companies'] = data_24.production_companies.str.split('|')\n",
    "\n",
    "# добавляем в датафрейм с фильмами строки (в зависимости сколько строк в списке студий)\n",
    "data_24 = data_24.explode('production_companies')\n",
    "\n",
    "# групируем полученные данные по студиям и сортируем по убыванию.\n",
    "data_24 = data_24.groupby(['production_companies'])['original_title_len'].mean().sort_values(ascending=False)\n",
    "\n",
    "# записываем ответ\n",
    "answers['24'] = data_24.index[0]"
   ]
  },
  {
   "cell_type": "markdown",
   "metadata": {
    "colab_type": "text",
    "id": "9G0hbvR7VqAK"
   },
   "source": [
    "# 25. Описание фильмов какой студии в среднем самые длинные по количеству слов?"
   ]
  },
  {
   "cell_type": "code",
   "execution_count": 34,
   "metadata": {
    "colab": {},
    "colab_type": "code",
    "id": "Ge2GsLNxVqAK"
   },
   "outputs": [],
   "source": [
    "# копируем начальные данные\n",
    "data_25 = data.copy()\n",
    "\n",
    "# превращаем строчный список компаний в список\n",
    "data_25['production_companies'] = data_25.production_companies.str.split('|')\n",
    "\n",
    "# добавляем в датафрейм с фильмами строки (в зависимости сколько строк в списке студий)\n",
    "data_25 = data_25.explode('production_companies')\n",
    "\n",
    "# групируем полученные данные по студиям, вычисляем среднее значение и сортируем по убыванию.\n",
    "data_25 = data_25.groupby(['production_companies'])['overview_words'].mean().sort_values(ascending=False)\n",
    "\n",
    "# записываем ответ\n",
    "answers['25'] = data_25.index[0]\n"
   ]
  },
  {
   "cell_type": "markdown",
   "metadata": {
    "colab_type": "text",
    "id": "FJ1AFt90VqAP"
   },
   "source": [
    "# 26. Какие фильмы входят в 1 процент лучших по рейтингу? \n",
    "по vote_average"
   ]
  },
  {
   "cell_type": "code",
   "execution_count": 35,
   "metadata": {
    "colab": {},
    "colab_type": "code",
    "id": "8qmJVq4CVqAQ",
    "scrolled": true
   },
   "outputs": [],
   "source": [
    "# выбираем 1 процент фильмов отсортированных по рейтингу в убывающем порядке\n",
    "one_percent_best = data.sort_values(['vote_average'],ascending=False)\\\n",
    "    .iloc[0:int(round(data.imdb_id.count() / 100,0))]\n",
    "\n",
    "# выводим список фильмов и выбираем правильный ответ\n",
    "one_percent_best.original_title\n",
    "\n",
    "# записываем ответ\n",
    "answers['26'] = 'Inside Out, The Dark Knight, 12 Years a Slave'"
   ]
  },
  {
   "cell_type": "markdown",
   "metadata": {
    "colab_type": "text",
    "id": "MdXsUXbCVqAV"
   },
   "source": [
    "# 27. Какие актеры чаще всего снимаются в одном фильме вместе?\n"
   ]
  },
  {
   "cell_type": "code",
   "execution_count": 36,
   "metadata": {},
   "outputs": [],
   "source": [
    "# крпируем данные в отдельный датафрейм\n",
    "cast_pairs = data.copy()\n",
    "\n",
    "# преобразуем значение поля в список\n",
    "cast_pairs['cast'] = cast_pairs.cast.str.split('|')\n",
    "\n",
    "# преобразуем значение поля из списка актёров в список пар актёров\n",
    "cast_pairs.cast = cast_pairs.cast.apply(lambda x: list(combinations(sorted(x), 2))) \n",
    "\n",
    "# записываем часто повторяющиеся пары\n",
    "cast_pairs.explode('cast').cast.mode()\n",
    "\n",
    "\n",
    "\n",
    "full_pairs_list = []\n",
    "# генерируем список всех пар\n",
    "for cast_pair in cast_pairs['cast']:\n",
    "    full_pairs_list = [*full_pairs_list, *cast_pair]\n",
    "    \n",
    "# убираем дубликаты    \n",
    "full_pairs_list = list(set(full_pairs_list))\n",
    "\n",
    "# инициализируем конечный список пар актёров\n",
    "result_actors_pairs = []\n",
    "\n",
    "# перебираем список пар актёров\n",
    "for actors_pair in full_pairs_list:\n",
    "    \n",
    "    # проверяем снимались ли оба актёра в фильме из текущей строки\n",
    "    if data[(data.cast.str.contains(str(actors_pair[0]))) \\\n",
    "            & (data.cast.str.contains(str(actors_pair[1])))].imdb_id.count():\n",
    "        \n",
    "        # актёры снимались - проверяем есть ли пара в конечном списке\n",
    "        idx = next((i for i, v in enumerate(result_actors_pairs) if v[0] == actors_pair), None)\n",
    "\n",
    "        if idx == None:\n",
    "            # пара в конечном списке не найдена - добавляем\n",
    "            result_actors_pairs.append((actors_pair,0))\n",
    "            \n",
    "            # опять ищем в конечном списке пару для нахождения индекса в конечном списке\n",
    "            idx = next((i for i, v in enumerate(result_actors_pairs) if v[0] == actors_pair), None)\n",
    "        \n",
    "        # увеличиваем количество фильмов для пары актёров путём создания нового объекта tuple\n",
    "        result_actors_pairs[idx] = (result_actors_pairs[idx][0], result_actors_pairs[idx][1] + 1)\n",
    "                   \n",
    "# сортируем конечный список по количеству фильмов в убывающем порядке                   \n",
    "result_actors_pairs.sort(key=lambda x: x[1] * -1)                   \n",
    "\n",
    "# просмотрев полученный список, записываем ответ\n",
    "answers['27'] = 'Daniel Radcliffe & Rupert Grint'\n"
   ]
  },
  {
   "cell_type": "markdown",
   "metadata": {
    "colab_type": "text",
    "id": "4ymnxEVoVqAW"
   },
   "source": [
    "ВАРИАНТ 2"
   ]
  },
  {
   "cell_type": "code",
   "execution_count": null,
   "metadata": {},
   "outputs": [],
   "source": []
  },
  {
   "cell_type": "markdown",
   "metadata": {
    "colab_type": "text",
    "id": "U0nONFnGVqAX"
   },
   "source": [
    "# Submission"
   ]
  },
  {
   "cell_type": "code",
   "execution_count": 37,
   "metadata": {
    "colab": {},
    "colab_type": "code",
    "id": "IfcaRO9-VqAX",
    "outputId": "0f132912-32bb-4196-c98c-abfbc4ad5a5f"
   },
   "outputs": [
    {
     "data": {
      "text/plain": [
       "{'1': 'Pirates of the Caribbean: On Stranger Tides',\n",
       " '2': 'Gods and Generals',\n",
       " '3': 'Winnie the Pooh',\n",
       " '4': '110.0',\n",
       " '5': '107.0',\n",
       " '6': 'Avatar',\n",
       " '7': 'The Lone Ranger',\n",
       " '8': 1478,\n",
       " '9': 'The Dark Knight',\n",
       " '10': 'The Lone Ranger',\n",
       " '11': 'Drama',\n",
       " '12': 'Drama',\n",
       " '13': 'Peter Jackson',\n",
       " '14': 'Robert Rodriguez',\n",
       " '15': 'Chris Hemsworth',\n",
       " '16': 'Matt Damon',\n",
       " '17': 'Action',\n",
       " '18': 'K-19: The Widowmaker',\n",
       " '19': 2015,\n",
       " '20': 2014,\n",
       " '21': '9',\n",
       " '22': 450,\n",
       " '23': 'Peter Jackson',\n",
       " '24': 'Four By Two Productions',\n",
       " '25': 'Midnight Picture Show',\n",
       " '26': 'Inside Out, The Dark Knight, 12 Years a Slave',\n",
       " '27': 'Daniel Radcliffe & Rupert Grint'}"
      ]
     },
     "execution_count": 37,
     "metadata": {},
     "output_type": "execute_result"
    }
   ],
   "source": [
    "# в конце можно посмотреть свои ответы к каждому вопросу\n",
    "answers"
   ]
  },
  {
   "cell_type": "code",
   "execution_count": 38,
   "metadata": {
    "colab": {},
    "colab_type": "code",
    "id": "SiRmHPl8VqAd"
   },
   "outputs": [
    {
     "data": {
      "text/plain": [
       "27"
      ]
     },
     "execution_count": 38,
     "metadata": {},
     "output_type": "execute_result"
    }
   ],
   "source": [
    "# и убедиться что ни чего не пропустил)\n",
    "len(answers)"
   ]
  },
  {
   "cell_type": "code",
   "execution_count": null,
   "metadata": {
    "colab": {},
    "colab_type": "code",
    "id": "uCfuTkRbVqAg"
   },
   "outputs": [],
   "source": []
  },
  {
   "cell_type": "code",
   "execution_count": null,
   "metadata": {
    "colab": {},
    "colab_type": "code",
    "id": "Vwx3NrkSVqAl"
   },
   "outputs": [],
   "source": []
  }
 ],
 "metadata": {
  "colab": {
   "name": "Copy of [SF-DST] Movies IMBD v4.1 TEMPLATE.ipynb",
   "provenance": []
  },
  "kernelspec": {
   "display_name": "Python 3",
   "language": "python",
   "name": "python3"
  },
  "language_info": {
   "codemirror_mode": {
    "name": "ipython",
    "version": 3
   },
   "file_extension": ".py",
   "mimetype": "text/x-python",
   "name": "python",
   "nbconvert_exporter": "python",
   "pygments_lexer": "ipython3",
   "version": "3.8.8"
  }
 },
 "nbformat": 4,
 "nbformat_minor": 1
}
