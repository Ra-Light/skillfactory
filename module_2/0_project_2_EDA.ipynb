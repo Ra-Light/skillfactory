{
 "cells": [
  {
   "cell_type": "markdown",
   "id": "81feb25c",
   "metadata": {},
   "source": [
    "### Цели и задачи проекта"
   ]
  },
  {
   "cell_type": "markdown",
   "id": "3739777a",
   "metadata": {},
   "source": [
    "*Цель проекта* - проанализировать данные об успеваемости по математике и выявить зависитость результатов экзаменов по математике от условий жизни. Будут выявляться линейные зависимости между количественными полями посредством кореляционного анализа и будет выполнен поиск номинативных параметров со статистическими разностями в распределении.<br>\n",
    "*Задачи проекта* - подготовить данные для анализа: заполнить пустые значения, очистить данные от строк свыбросами в числовых столбцах.\n"
   ]
  },
  {
   "cell_type": "markdown",
   "id": "6cf9e3ee",
   "metadata": {},
   "source": [
    "### Коротко о данных"
   ]
  },
  {
   "cell_type": "markdown",
   "id": "6884f52c",
   "metadata": {},
   "source": [
    "В наборе данных присутствует 395 строк, 30 столбцов из которых 17 типа object и 13 числовых."
   ]
  },
  {
   "cell_type": "code",
   "execution_count": 60,
   "id": "5605e9b5",
   "metadata": {},
   "outputs": [],
   "source": [
    "import pandas as pd\n",
    "import matplotlib.pyplot as plt\n",
    "import seaborn as sns\n",
    "from itertools import combinations\n",
    "from scipy.stats import ttest_ind\n",
    "\n",
    "pd.set_option('display.max_rows', 50)  # показывать больше строк\n",
    "pd.set_option('display.max_columns', 50)  # показывать больше колонок\n",
    "\n",
    "\n",
    "def init_data():\n",
    "    \"\"\"Инициализация начального датафрейма - первичная загрузка из файла и переименовывание столбца\"\"\"\n",
    "\n",
    "    # считываем файл с даггыми\n",
    "    stud_math = pd.read_csv(\n",
    "        'C:/Users/User/Documents/DataScientist/Module 11/Final work/stud_math.csv')\n",
    "\n",
    "    # переименовываем столбец\n",
    "    stud_math.rename(\n",
    "        columns={'studytime, granular': 'studytime_granular'}, inplace=True)\n",
    "\n",
    "    return stud_math\n",
    "\n",
    "\n",
    "stud_math = init_data()\n",
    "\n",
    "# запоминаем количество строк\n",
    "initial_data_length = len(stud_math)"
   ]
  },
  {
   "cell_type": "markdown",
   "id": "1b8519d0",
   "metadata": {},
   "source": [
    "## 1. Первичный обзор данных после их загрузки"
   ]
  },
  {
   "cell_type": "code",
   "execution_count": 61,
   "id": "906ecbdd",
   "metadata": {
    "scrolled": true
   },
   "outputs": [
    {
     "data": {
      "text/html": [
       "<div>\n",
       "<style scoped>\n",
       "    .dataframe tbody tr th:only-of-type {\n",
       "        vertical-align: middle;\n",
       "    }\n",
       "\n",
       "    .dataframe tbody tr th {\n",
       "        vertical-align: top;\n",
       "    }\n",
       "\n",
       "    .dataframe thead th {\n",
       "        text-align: right;\n",
       "    }\n",
       "</style>\n",
       "<table border=\"1\" class=\"dataframe\">\n",
       "  <thead>\n",
       "    <tr style=\"text-align: right;\">\n",
       "      <th></th>\n",
       "      <th>school</th>\n",
       "      <th>sex</th>\n",
       "      <th>age</th>\n",
       "      <th>address</th>\n",
       "      <th>famsize</th>\n",
       "      <th>Pstatus</th>\n",
       "      <th>Medu</th>\n",
       "      <th>Fedu</th>\n",
       "      <th>Mjob</th>\n",
       "      <th>Fjob</th>\n",
       "      <th>reason</th>\n",
       "      <th>guardian</th>\n",
       "      <th>traveltime</th>\n",
       "      <th>studytime</th>\n",
       "      <th>failures</th>\n",
       "      <th>schoolsup</th>\n",
       "      <th>famsup</th>\n",
       "      <th>paid</th>\n",
       "      <th>activities</th>\n",
       "      <th>nursery</th>\n",
       "      <th>studytime_granular</th>\n",
       "      <th>higher</th>\n",
       "      <th>internet</th>\n",
       "      <th>romantic</th>\n",
       "      <th>famrel</th>\n",
       "      <th>freetime</th>\n",
       "      <th>goout</th>\n",
       "      <th>health</th>\n",
       "      <th>absences</th>\n",
       "      <th>score</th>\n",
       "    </tr>\n",
       "  </thead>\n",
       "  <tbody>\n",
       "    <tr>\n",
       "      <th>0</th>\n",
       "      <td>GP</td>\n",
       "      <td>F</td>\n",
       "      <td>18</td>\n",
       "      <td>U</td>\n",
       "      <td>NaN</td>\n",
       "      <td>A</td>\n",
       "      <td>4.0</td>\n",
       "      <td>4.0</td>\n",
       "      <td>at_home</td>\n",
       "      <td>teacher</td>\n",
       "      <td>course</td>\n",
       "      <td>mother</td>\n",
       "      <td>2.0</td>\n",
       "      <td>2.0</td>\n",
       "      <td>0.0</td>\n",
       "      <td>yes</td>\n",
       "      <td>no</td>\n",
       "      <td>no</td>\n",
       "      <td>no</td>\n",
       "      <td>yes</td>\n",
       "      <td>-6.0</td>\n",
       "      <td>yes</td>\n",
       "      <td>NaN</td>\n",
       "      <td>no</td>\n",
       "      <td>4.0</td>\n",
       "      <td>3.0</td>\n",
       "      <td>4.0</td>\n",
       "      <td>3.0</td>\n",
       "      <td>6.0</td>\n",
       "      <td>30.0</td>\n",
       "    </tr>\n",
       "    <tr>\n",
       "      <th>1</th>\n",
       "      <td>GP</td>\n",
       "      <td>F</td>\n",
       "      <td>17</td>\n",
       "      <td>U</td>\n",
       "      <td>GT3</td>\n",
       "      <td>NaN</td>\n",
       "      <td>1.0</td>\n",
       "      <td>1.0</td>\n",
       "      <td>at_home</td>\n",
       "      <td>other</td>\n",
       "      <td>course</td>\n",
       "      <td>father</td>\n",
       "      <td>1.0</td>\n",
       "      <td>2.0</td>\n",
       "      <td>0.0</td>\n",
       "      <td>no</td>\n",
       "      <td>yes</td>\n",
       "      <td>no</td>\n",
       "      <td>no</td>\n",
       "      <td>no</td>\n",
       "      <td>-6.0</td>\n",
       "      <td>yes</td>\n",
       "      <td>yes</td>\n",
       "      <td>no</td>\n",
       "      <td>5.0</td>\n",
       "      <td>3.0</td>\n",
       "      <td>3.0</td>\n",
       "      <td>3.0</td>\n",
       "      <td>4.0</td>\n",
       "      <td>30.0</td>\n",
       "    </tr>\n",
       "    <tr>\n",
       "      <th>2</th>\n",
       "      <td>GP</td>\n",
       "      <td>F</td>\n",
       "      <td>15</td>\n",
       "      <td>U</td>\n",
       "      <td>LE3</td>\n",
       "      <td>T</td>\n",
       "      <td>1.0</td>\n",
       "      <td>1.0</td>\n",
       "      <td>at_home</td>\n",
       "      <td>other</td>\n",
       "      <td>other</td>\n",
       "      <td>mother</td>\n",
       "      <td>1.0</td>\n",
       "      <td>2.0</td>\n",
       "      <td>3.0</td>\n",
       "      <td>yes</td>\n",
       "      <td>no</td>\n",
       "      <td>NaN</td>\n",
       "      <td>no</td>\n",
       "      <td>yes</td>\n",
       "      <td>-6.0</td>\n",
       "      <td>yes</td>\n",
       "      <td>yes</td>\n",
       "      <td>NaN</td>\n",
       "      <td>4.0</td>\n",
       "      <td>3.0</td>\n",
       "      <td>2.0</td>\n",
       "      <td>3.0</td>\n",
       "      <td>10.0</td>\n",
       "      <td>50.0</td>\n",
       "    </tr>\n",
       "    <tr>\n",
       "      <th>3</th>\n",
       "      <td>GP</td>\n",
       "      <td>F</td>\n",
       "      <td>15</td>\n",
       "      <td>U</td>\n",
       "      <td>GT3</td>\n",
       "      <td>T</td>\n",
       "      <td>4.0</td>\n",
       "      <td>2.0</td>\n",
       "      <td>health</td>\n",
       "      <td>NaN</td>\n",
       "      <td>home</td>\n",
       "      <td>mother</td>\n",
       "      <td>1.0</td>\n",
       "      <td>3.0</td>\n",
       "      <td>0.0</td>\n",
       "      <td>no</td>\n",
       "      <td>yes</td>\n",
       "      <td>yes</td>\n",
       "      <td>yes</td>\n",
       "      <td>yes</td>\n",
       "      <td>-9.0</td>\n",
       "      <td>yes</td>\n",
       "      <td>yes</td>\n",
       "      <td>yes</td>\n",
       "      <td>3.0</td>\n",
       "      <td>2.0</td>\n",
       "      <td>2.0</td>\n",
       "      <td>5.0</td>\n",
       "      <td>2.0</td>\n",
       "      <td>75.0</td>\n",
       "    </tr>\n",
       "    <tr>\n",
       "      <th>4</th>\n",
       "      <td>GP</td>\n",
       "      <td>F</td>\n",
       "      <td>16</td>\n",
       "      <td>U</td>\n",
       "      <td>GT3</td>\n",
       "      <td>T</td>\n",
       "      <td>3.0</td>\n",
       "      <td>3.0</td>\n",
       "      <td>other</td>\n",
       "      <td>other</td>\n",
       "      <td>home</td>\n",
       "      <td>father</td>\n",
       "      <td>1.0</td>\n",
       "      <td>2.0</td>\n",
       "      <td>0.0</td>\n",
       "      <td>no</td>\n",
       "      <td>yes</td>\n",
       "      <td>yes</td>\n",
       "      <td>no</td>\n",
       "      <td>yes</td>\n",
       "      <td>-6.0</td>\n",
       "      <td>yes</td>\n",
       "      <td>no</td>\n",
       "      <td>no</td>\n",
       "      <td>4.0</td>\n",
       "      <td>3.0</td>\n",
       "      <td>2.0</td>\n",
       "      <td>5.0</td>\n",
       "      <td>4.0</td>\n",
       "      <td>50.0</td>\n",
       "    </tr>\n",
       "    <tr>\n",
       "      <th>5</th>\n",
       "      <td>GP</td>\n",
       "      <td>M</td>\n",
       "      <td>16</td>\n",
       "      <td>U</td>\n",
       "      <td>LE3</td>\n",
       "      <td>T</td>\n",
       "      <td>4.0</td>\n",
       "      <td>3.0</td>\n",
       "      <td>services</td>\n",
       "      <td>other</td>\n",
       "      <td>reputation</td>\n",
       "      <td>mother</td>\n",
       "      <td>1.0</td>\n",
       "      <td>2.0</td>\n",
       "      <td>0.0</td>\n",
       "      <td>no</td>\n",
       "      <td>yes</td>\n",
       "      <td>yes</td>\n",
       "      <td>yes</td>\n",
       "      <td>yes</td>\n",
       "      <td>-6.0</td>\n",
       "      <td>yes</td>\n",
       "      <td>yes</td>\n",
       "      <td>no</td>\n",
       "      <td>5.0</td>\n",
       "      <td>4.0</td>\n",
       "      <td>2.0</td>\n",
       "      <td>5.0</td>\n",
       "      <td>10.0</td>\n",
       "      <td>75.0</td>\n",
       "    </tr>\n",
       "    <tr>\n",
       "      <th>6</th>\n",
       "      <td>GP</td>\n",
       "      <td>M</td>\n",
       "      <td>16</td>\n",
       "      <td>NaN</td>\n",
       "      <td>LE3</td>\n",
       "      <td>T</td>\n",
       "      <td>2.0</td>\n",
       "      <td>2.0</td>\n",
       "      <td>other</td>\n",
       "      <td>other</td>\n",
       "      <td>home</td>\n",
       "      <td>mother</td>\n",
       "      <td>1.0</td>\n",
       "      <td>2.0</td>\n",
       "      <td>0.0</td>\n",
       "      <td>no</td>\n",
       "      <td>no</td>\n",
       "      <td>no</td>\n",
       "      <td>no</td>\n",
       "      <td>yes</td>\n",
       "      <td>-6.0</td>\n",
       "      <td>yes</td>\n",
       "      <td>yes</td>\n",
       "      <td>no</td>\n",
       "      <td>4.0</td>\n",
       "      <td>4.0</td>\n",
       "      <td>4.0</td>\n",
       "      <td>3.0</td>\n",
       "      <td>0.0</td>\n",
       "      <td>55.0</td>\n",
       "    </tr>\n",
       "    <tr>\n",
       "      <th>7</th>\n",
       "      <td>GP</td>\n",
       "      <td>F</td>\n",
       "      <td>17</td>\n",
       "      <td>U</td>\n",
       "      <td>GT3</td>\n",
       "      <td>A</td>\n",
       "      <td>4.0</td>\n",
       "      <td>4.0</td>\n",
       "      <td>other</td>\n",
       "      <td>teacher</td>\n",
       "      <td>home</td>\n",
       "      <td>mother</td>\n",
       "      <td>2.0</td>\n",
       "      <td>2.0</td>\n",
       "      <td>0.0</td>\n",
       "      <td>yes</td>\n",
       "      <td>yes</td>\n",
       "      <td>no</td>\n",
       "      <td>no</td>\n",
       "      <td>yes</td>\n",
       "      <td>-6.0</td>\n",
       "      <td>yes</td>\n",
       "      <td>no</td>\n",
       "      <td>no</td>\n",
       "      <td>4.0</td>\n",
       "      <td>1.0</td>\n",
       "      <td>4.0</td>\n",
       "      <td>1.0</td>\n",
       "      <td>6.0</td>\n",
       "      <td>30.0</td>\n",
       "    </tr>\n",
       "    <tr>\n",
       "      <th>8</th>\n",
       "      <td>GP</td>\n",
       "      <td>M</td>\n",
       "      <td>15</td>\n",
       "      <td>U</td>\n",
       "      <td>LE3</td>\n",
       "      <td>A</td>\n",
       "      <td>3.0</td>\n",
       "      <td>2.0</td>\n",
       "      <td>services</td>\n",
       "      <td>other</td>\n",
       "      <td>home</td>\n",
       "      <td>mother</td>\n",
       "      <td>1.0</td>\n",
       "      <td>2.0</td>\n",
       "      <td>0.0</td>\n",
       "      <td>no</td>\n",
       "      <td>yes</td>\n",
       "      <td>yes</td>\n",
       "      <td>no</td>\n",
       "      <td>yes</td>\n",
       "      <td>-6.0</td>\n",
       "      <td>yes</td>\n",
       "      <td>yes</td>\n",
       "      <td>no</td>\n",
       "      <td>NaN</td>\n",
       "      <td>2.0</td>\n",
       "      <td>2.0</td>\n",
       "      <td>1.0</td>\n",
       "      <td>0.0</td>\n",
       "      <td>95.0</td>\n",
       "    </tr>\n",
       "    <tr>\n",
       "      <th>9</th>\n",
       "      <td>GP</td>\n",
       "      <td>M</td>\n",
       "      <td>15</td>\n",
       "      <td>U</td>\n",
       "      <td>NaN</td>\n",
       "      <td>NaN</td>\n",
       "      <td>3.0</td>\n",
       "      <td>4.0</td>\n",
       "      <td>other</td>\n",
       "      <td>other</td>\n",
       "      <td>home</td>\n",
       "      <td>mother</td>\n",
       "      <td>1.0</td>\n",
       "      <td>2.0</td>\n",
       "      <td>0.0</td>\n",
       "      <td>no</td>\n",
       "      <td>yes</td>\n",
       "      <td>yes</td>\n",
       "      <td>yes</td>\n",
       "      <td>yes</td>\n",
       "      <td>-6.0</td>\n",
       "      <td>yes</td>\n",
       "      <td>yes</td>\n",
       "      <td>no</td>\n",
       "      <td>5.0</td>\n",
       "      <td>5.0</td>\n",
       "      <td>1.0</td>\n",
       "      <td>5.0</td>\n",
       "      <td>0.0</td>\n",
       "      <td>75.0</td>\n",
       "    </tr>\n",
       "  </tbody>\n",
       "</table>\n",
       "</div>"
      ],
      "text/plain": [
       "  school sex  age address famsize Pstatus  Medu  Fedu      Mjob     Fjob  \\\n",
       "0     GP   F   18       U     NaN       A   4.0   4.0   at_home  teacher   \n",
       "1     GP   F   17       U     GT3     NaN   1.0   1.0   at_home    other   \n",
       "2     GP   F   15       U     LE3       T   1.0   1.0   at_home    other   \n",
       "3     GP   F   15       U     GT3       T   4.0   2.0    health      NaN   \n",
       "4     GP   F   16       U     GT3       T   3.0   3.0     other    other   \n",
       "5     GP   M   16       U     LE3       T   4.0   3.0  services    other   \n",
       "6     GP   M   16     NaN     LE3       T   2.0   2.0     other    other   \n",
       "7     GP   F   17       U     GT3       A   4.0   4.0     other  teacher   \n",
       "8     GP   M   15       U     LE3       A   3.0   2.0  services    other   \n",
       "9     GP   M   15       U     NaN     NaN   3.0   4.0     other    other   \n",
       "\n",
       "       reason guardian  traveltime  studytime  failures schoolsup famsup paid  \\\n",
       "0      course   mother         2.0        2.0       0.0       yes     no   no   \n",
       "1      course   father         1.0        2.0       0.0        no    yes   no   \n",
       "2       other   mother         1.0        2.0       3.0       yes     no  NaN   \n",
       "3        home   mother         1.0        3.0       0.0        no    yes  yes   \n",
       "4        home   father         1.0        2.0       0.0        no    yes  yes   \n",
       "5  reputation   mother         1.0        2.0       0.0        no    yes  yes   \n",
       "6        home   mother         1.0        2.0       0.0        no     no   no   \n",
       "7        home   mother         2.0        2.0       0.0       yes    yes   no   \n",
       "8        home   mother         1.0        2.0       0.0        no    yes  yes   \n",
       "9        home   mother         1.0        2.0       0.0        no    yes  yes   \n",
       "\n",
       "  activities nursery  studytime_granular higher internet romantic  famrel  \\\n",
       "0         no     yes                -6.0    yes      NaN       no     4.0   \n",
       "1         no      no                -6.0    yes      yes       no     5.0   \n",
       "2         no     yes                -6.0    yes      yes      NaN     4.0   \n",
       "3        yes     yes                -9.0    yes      yes      yes     3.0   \n",
       "4         no     yes                -6.0    yes       no       no     4.0   \n",
       "5        yes     yes                -6.0    yes      yes       no     5.0   \n",
       "6         no     yes                -6.0    yes      yes       no     4.0   \n",
       "7         no     yes                -6.0    yes       no       no     4.0   \n",
       "8         no     yes                -6.0    yes      yes       no     NaN   \n",
       "9        yes     yes                -6.0    yes      yes       no     5.0   \n",
       "\n",
       "   freetime  goout  health  absences  score  \n",
       "0       3.0    4.0     3.0       6.0   30.0  \n",
       "1       3.0    3.0     3.0       4.0   30.0  \n",
       "2       3.0    2.0     3.0      10.0   50.0  \n",
       "3       2.0    2.0     5.0       2.0   75.0  \n",
       "4       3.0    2.0     5.0       4.0   50.0  \n",
       "5       4.0    2.0     5.0      10.0   75.0  \n",
       "6       4.0    4.0     3.0       0.0   55.0  \n",
       "7       1.0    4.0     1.0       6.0   30.0  \n",
       "8       2.0    2.0     1.0       0.0   95.0  \n",
       "9       5.0    1.0     5.0       0.0   75.0  "
      ]
     },
     "metadata": {},
     "output_type": "display_data"
    },
    {
     "name": "stdout",
     "output_type": "stream",
     "text": [
      "<class 'pandas.core.frame.DataFrame'>\n",
      "RangeIndex: 395 entries, 0 to 394\n",
      "Data columns (total 30 columns):\n",
      " #   Column              Non-Null Count  Dtype  \n",
      "---  ------              --------------  -----  \n",
      " 0   school              395 non-null    object \n",
      " 1   sex                 395 non-null    object \n",
      " 2   age                 395 non-null    int64  \n",
      " 3   address             378 non-null    object \n",
      " 4   famsize             368 non-null    object \n",
      " 5   Pstatus             350 non-null    object \n",
      " 6   Medu                392 non-null    float64\n",
      " 7   Fedu                371 non-null    float64\n",
      " 8   Mjob                376 non-null    object \n",
      " 9   Fjob                359 non-null    object \n",
      " 10  reason              378 non-null    object \n",
      " 11  guardian            364 non-null    object \n",
      " 12  traveltime          367 non-null    float64\n",
      " 13  studytime           388 non-null    float64\n",
      " 14  failures            373 non-null    float64\n",
      " 15  schoolsup           386 non-null    object \n",
      " 16  famsup              356 non-null    object \n",
      " 17  paid                355 non-null    object \n",
      " 18  activities          381 non-null    object \n",
      " 19  nursery             379 non-null    object \n",
      " 20  studytime_granular  388 non-null    float64\n",
      " 21  higher              375 non-null    object \n",
      " 22  internet            361 non-null    object \n",
      " 23  romantic            364 non-null    object \n",
      " 24  famrel              368 non-null    float64\n",
      " 25  freetime            384 non-null    float64\n",
      " 26  goout               387 non-null    float64\n",
      " 27  health              380 non-null    float64\n",
      " 28  absences            383 non-null    float64\n",
      " 29  score               389 non-null    float64\n",
      "dtypes: float64(12), int64(1), object(17)\n",
      "memory usage: 92.7+ KB\n"
     ]
    }
   ],
   "source": [
    "# первичный просмотр данных\n",
    "display(stud_math.head(10))\n",
    "stud_math.info()"
   ]
  },
  {
   "cell_type": "markdown",
   "id": "71288f6f",
   "metadata": {},
   "source": [
    "### Вспомогательные функции"
   ]
  },
  {
   "cell_type": "code",
   "execution_count": 65,
   "id": "e5bf2a37",
   "metadata": {},
   "outputs": [],
   "source": [
    "def show_field_info(stud_math, col):\n",
    "    \"\"\"функция отображает информацию о столбце любого типа\"\"\"\n",
    "    # отображаем название и тип столбца\n",
    "    print(\"Column name:\", col, \"Type:\", stud_math[col].dtype)\n",
    "\n",
    "    # отображаем уникальные значения\n",
    "    print(stud_math[col].unique())\n",
    "\n",
    "    # показываем непустые уникальные значения и количества значений\n",
    "    display(stud_math[col].value_counts())\n",
    "\n",
    "    if stud_math[col].dtype == 'object':\n",
    "        # меняем на None пустые строки в полях типа object\n",
    "        stud_math[col] = stud_math[col].apply(\n",
    "            lambda x: None if str(x).strip() == '' else x)\n",
    "\n",
    "    # подсчитываем количество строк с пустыми значениями поля\n",
    "    rows_with_empty_value = len(stud_math[pd.isnull(stud_math[col])])\n",
    "\n",
    "    if rows_with_empty_value > 0:\n",
    "        # отображаем количество строк с пустыми значениями поля\n",
    "        print(\"Rows with empty values:\", rows_with_empty_value)\n",
    "\n",
    "    # присваиваем количество строк с пустыми значениями поля\n",
    "    result = rows_with_empty_value\n",
    "\n",
    "    if stud_math[col].dtype in ['int64', 'float64']:\n",
    "        # возвращаем значение функции\n",
    "        result = show_num_field_info(stud_math, col)\n",
    "\n",
    "    # отображаем разделительную строку\n",
    "    print('------------------------------------------')\n",
    "\n",
    "    # возвращаем количество строк с пусьыми значениями поля или\n",
    "    # Tuple с количеством строк с значением выбросов и набор данных\n",
    "    # с отфильтрованными от выбросов строками\n",
    "    return result\n",
    "\n",
    "\n",
    "def show_num_field_info(stud_math, col):\n",
    "    \"\"\"Функция отображает информацию о числовом поле\"\"\"\n",
    "    # инициализируется список с названиями неколичественных полей\n",
    "    no_outliers_calc = ['Medu', 'Fedu', 'traveltime', 'studytime',\n",
    "                        'studytime_granular', 'failures', 'famrel', 'freetime', 'goout', 'health']\n",
    "\n",
    "    # отображаем название столбца\n",
    "    print(\"Column name:\", col, \"Type:\", stud_math[col].dtype)\n",
    "\n",
    "    # возвращаем информацию о поле: среднее, минимальное и максимальное, стандартное отклонение\n",
    "    # и квантили\n",
    "    display(stud_math[col].describe())\n",
    "\n",
    "    # отфильтровываются строки с пустыми знаяениями\n",
    "    stud_math = stud_math.loc[pd.notna(stud_math[col])]\n",
    "\n",
    "    # инициализируется переменная для хранения количества строк с выбросами\n",
    "    rows_with_outliers_count = -1\n",
    "\n",
    "    if col not in no_outliers_calc:\n",
    "        # подсчитываем выбросы\n",
    "        perc25 = stud_math[col].quantile(0.25)\n",
    "        perc75 = stud_math[col].quantile(0.75)\n",
    "        IQR = perc75 - perc25\n",
    "\n",
    "        # отображаем границы выбросов\n",
    "        if IQR > 0:\n",
    "            print(\n",
    "                '25-й перцентиль: {},'.format(perc25),\n",
    "                '75-й перцентиль: {},'.format(perc75),\n",
    "                \"IQR: {}, \".format(IQR),\n",
    "                \"Границы выбросов: [{f}, {l}].\".format(f=perc25 - 1.5*IQR, l=perc75 + 1.5*IQR))\n",
    "\n",
    "        # подсчитываем границы\n",
    "        rows_with_outliers_count = len(stud_math.loc[(\n",
    "            stud_math[col] < perc25 - 1.5*IQR) | (stud_math[col] > (perc75 + 1.5*IQR))])\n",
    "\n",
    "        # отображаем количество строк с выбросами\n",
    "        print('Rows with outliers:', rows_with_outliers_count)\n",
    "\n",
    "        # фильтруем строки с выбросами\n",
    "        stud_math[col] = stud_math[col].loc[stud_math[col].between(\n",
    "            perc25 - 1.5*IQR, perc75 + 1.5*IQR)]\n",
    "\n",
    "    # возвращаем количество строк с выбросами\n",
    "    return (rows_with_outliers_count, stud_math)\n",
    "\n",
    "\n",
    "def get_stat_dif(stud_math, column, value=0.05):\n",
    "    \"\"\"функция для поиска статистических различий посредством теста Стбюдента\"\"\"\n",
    "\n",
    "    # выбираем столбцы\n",
    "    cols = stud_math.loc[:, column].value_counts()\n",
    "\n",
    "    # генерируем комбинации по два значения\n",
    "    combinations_all = list(combinations(cols, 2))\n",
    "\n",
    "    for comb in combinations_all:\n",
    "        # перебираем комбинации и делаем тест Стьюдента\n",
    "        if ttest_ind(stud_math.loc[stud_math.loc[:, column] == comb[0], 'score'],\n",
    "                     stud_math.loc[stud_math.loc[:, column] == comb[1], 'score']).pvalue \\\n",
    "                <= value/len(combinations_all):  # Учли поправку Бонферони\n",
    "            # показываем поле для которого найдены значимве различия\n",
    "            print('Найдены статистически значимые различия для колонки', column)\n",
    "            break  # прерываем цикл"
   ]
  },
  {
   "cell_type": "markdown",
   "id": "0986db24",
   "metadata": {},
   "source": [
    "## 2. Обзор столбцов"
   ]
  },
  {
   "cell_type": "code",
   "execution_count": 66,
   "id": "95353fec",
   "metadata": {},
   "outputs": [
    {
     "name": "stdout",
     "output_type": "stream",
     "text": [
      "Column name: school Type: object\n",
      "['GP' 'MS']\n"
     ]
    },
    {
     "data": {
      "text/plain": [
       "GP    349\n",
       "MS     46\n",
       "Name: school, dtype: int64"
      ]
     },
     "metadata": {},
     "output_type": "display_data"
    },
    {
     "name": "stdout",
     "output_type": "stream",
     "text": [
      "------------------------------------------\n",
      "Column name: sex Type: object\n",
      "['F' 'M']\n"
     ]
    },
    {
     "data": {
      "text/plain": [
       "F    208\n",
       "M    187\n",
       "Name: sex, dtype: int64"
      ]
     },
     "metadata": {},
     "output_type": "display_data"
    },
    {
     "name": "stdout",
     "output_type": "stream",
     "text": [
      "------------------------------------------\n",
      "Column name: age Type: int64\n",
      "[18 17 15 16 19 22 20 21]\n"
     ]
    },
    {
     "data": {
      "text/plain": [
       "16    104\n",
       "17     98\n",
       "15     82\n",
       "18     82\n",
       "19     24\n",
       "20      3\n",
       "21      1\n",
       "22      1\n",
       "Name: age, dtype: int64"
      ]
     },
     "metadata": {},
     "output_type": "display_data"
    },
    {
     "name": "stdout",
     "output_type": "stream",
     "text": [
      "Column name: age Type: int64\n"
     ]
    },
    {
     "data": {
      "text/plain": [
       "count    395.000000\n",
       "mean      16.696203\n",
       "std        1.276043\n",
       "min       15.000000\n",
       "25%       16.000000\n",
       "50%       17.000000\n",
       "75%       18.000000\n",
       "max       22.000000\n",
       "Name: age, dtype: float64"
      ]
     },
     "metadata": {},
     "output_type": "display_data"
    },
    {
     "name": "stdout",
     "output_type": "stream",
     "text": [
      "25-й перцентиль: 16.0, 75-й перцентиль: 18.0, IQR: 2.0,  Границы выбросов: [13.0, 21.0].\n",
      "Rows with outliers: 1\n",
      "------------------------------------------\n",
      "Column name: address Type: object\n",
      "['U' nan 'R']\n"
     ]
    },
    {
     "data": {
      "text/plain": [
       "U    295\n",
       "R     83\n",
       "Name: address, dtype: int64"
      ]
     },
     "metadata": {},
     "output_type": "display_data"
    },
    {
     "name": "stdout",
     "output_type": "stream",
     "text": [
      "Rows with empty values: 17\n",
      "------------------------------------------\n",
      "Column name: famsize Type: object\n",
      "[nan 'GT3' 'LE3']\n"
     ]
    },
    {
     "data": {
      "text/plain": [
       "GT3    261\n",
       "LE3    107\n",
       "Name: famsize, dtype: int64"
      ]
     },
     "metadata": {},
     "output_type": "display_data"
    },
    {
     "name": "stdout",
     "output_type": "stream",
     "text": [
      "Rows with empty values: 27\n",
      "------------------------------------------\n",
      "Column name: Pstatus Type: object\n",
      "['A' nan 'T']\n"
     ]
    },
    {
     "data": {
      "text/plain": [
       "T    314\n",
       "A     36\n",
       "Name: Pstatus, dtype: int64"
      ]
     },
     "metadata": {},
     "output_type": "display_data"
    },
    {
     "name": "stdout",
     "output_type": "stream",
     "text": [
      "Rows with empty values: 45\n",
      "------------------------------------------\n",
      "Column name: Medu Type: float64\n",
      "[ 4.  1.  3.  2. nan  0.]\n"
     ]
    },
    {
     "data": {
      "text/plain": [
       "4.0    131\n",
       "2.0    102\n",
       "3.0     97\n",
       "1.0     59\n",
       "0.0      3\n",
       "Name: Medu, dtype: int64"
      ]
     },
     "metadata": {},
     "output_type": "display_data"
    },
    {
     "name": "stdout",
     "output_type": "stream",
     "text": [
      "Rows with empty values: 3\n",
      "Column name: Medu Type: float64\n"
     ]
    },
    {
     "data": {
      "text/plain": [
       "count    392.000000\n",
       "mean       2.750000\n",
       "std        1.098127\n",
       "min        0.000000\n",
       "25%        2.000000\n",
       "50%        3.000000\n",
       "75%        4.000000\n",
       "max        4.000000\n",
       "Name: Medu, dtype: float64"
      ]
     },
     "metadata": {},
     "output_type": "display_data"
    },
    {
     "name": "stdout",
     "output_type": "stream",
     "text": [
      "------------------------------------------\n",
      "Column name: Fedu Type: float64\n",
      "[ 4.  1.  2.  3. 40. nan  0.]\n"
     ]
    },
    {
     "data": {
      "text/plain": [
       "2.0     105\n",
       "3.0      95\n",
       "4.0      88\n",
       "1.0      77\n",
       "0.0       2\n",
       "40.0      1\n",
       "Name: Fedu, dtype: int64"
      ]
     },
     "metadata": {},
     "output_type": "display_data"
    },
    {
     "name": "stdout",
     "output_type": "stream",
     "text": [
      "Rows with empty values: 24\n",
      "Column name: Fedu Type: float64\n"
     ]
    },
    {
     "data": {
      "text/plain": [
       "count    368.000000\n",
       "mean       2.619565\n",
       "std        2.235909\n",
       "min        0.000000\n",
       "25%        2.000000\n",
       "50%        2.500000\n",
       "75%        3.000000\n",
       "max       40.000000\n",
       "Name: Fedu, dtype: float64"
      ]
     },
     "metadata": {},
     "output_type": "display_data"
    },
    {
     "name": "stdout",
     "output_type": "stream",
     "text": [
      "------------------------------------------\n",
      "Column name: Mjob Type: object\n",
      "['at_home' 'health' 'other' 'services' 'teacher' nan]\n"
     ]
    },
    {
     "data": {
      "text/plain": [
       "other       123\n",
       "services     90\n",
       "at_home      57\n",
       "teacher      48\n",
       "health       31\n",
       "Name: Mjob, dtype: int64"
      ]
     },
     "metadata": {},
     "output_type": "display_data"
    },
    {
     "name": "stdout",
     "output_type": "stream",
     "text": [
      "Rows with empty values: 19\n",
      "------------------------------------------\n",
      "Column name: Fjob Type: object\n",
      "['teacher' 'other' nan 'health' 'services' 'at_home']\n"
     ]
    },
    {
     "data": {
      "text/plain": [
       "other       189\n",
       "services     92\n",
       "teacher      26\n",
       "at_home      14\n",
       "health       13\n",
       "Name: Fjob, dtype: int64"
      ]
     },
     "metadata": {},
     "output_type": "display_data"
    },
    {
     "name": "stdout",
     "output_type": "stream",
     "text": [
      "Rows with empty values: 34\n",
      "------------------------------------------\n",
      "Column name: reason Type: object\n",
      "['course' 'other' 'home' 'reputation' nan]\n"
     ]
    },
    {
     "data": {
      "text/plain": [
       "course        128\n",
       "reputation     97\n",
       "home           95\n",
       "other          32\n",
       "Name: reason, dtype: int64"
      ]
     },
     "metadata": {},
     "output_type": "display_data"
    },
    {
     "name": "stdout",
     "output_type": "stream",
     "text": [
      "Rows with empty values: 16\n",
      "------------------------------------------\n",
      "Column name: guardian Type: object\n",
      "['mother' 'father' 'other' nan]\n"
     ]
    },
    {
     "data": {
      "text/plain": [
       "mother    235\n",
       "father     77\n",
       "other      26\n",
       "Name: guardian, dtype: int64"
      ]
     },
     "metadata": {},
     "output_type": "display_data"
    },
    {
     "name": "stdout",
     "output_type": "stream",
     "text": [
      "Rows with empty values: 30\n",
      "------------------------------------------\n",
      "Column name: traveltime Type: float64\n",
      "[ 2.  1.  3. nan  4.]\n"
     ]
    },
    {
     "data": {
      "text/plain": [
       "1.0    222\n",
       "2.0     92\n",
       "3.0     22\n",
       "4.0      7\n",
       "Name: traveltime, dtype: int64"
      ]
     },
     "metadata": {},
     "output_type": "display_data"
    },
    {
     "name": "stdout",
     "output_type": "stream",
     "text": [
      "Rows with empty values: 25\n",
      "Column name: traveltime Type: float64\n"
     ]
    },
    {
     "data": {
      "text/plain": [
       "count    343.000000\n",
       "mean       1.457726\n",
       "std        0.707390\n",
       "min        1.000000\n",
       "25%        1.000000\n",
       "50%        1.000000\n",
       "75%        2.000000\n",
       "max        4.000000\n",
       "Name: traveltime, dtype: float64"
      ]
     },
     "metadata": {},
     "output_type": "display_data"
    },
    {
     "name": "stdout",
     "output_type": "stream",
     "text": [
      "------------------------------------------\n",
      "Column name: studytime Type: float64\n",
      "[ 2.  3.  1. nan  4.]\n"
     ]
    },
    {
     "data": {
      "text/plain": [
       "2.0    167\n",
       "1.0     91\n",
       "3.0     55\n",
       "4.0     24\n",
       "Name: studytime, dtype: int64"
      ]
     },
     "metadata": {},
     "output_type": "display_data"
    },
    {
     "name": "stdout",
     "output_type": "stream",
     "text": [
      "Rows with empty values: 6\n",
      "Column name: studytime Type: float64\n"
     ]
    },
    {
     "data": {
      "text/plain": [
       "count    337.000000\n",
       "mean       2.035608\n",
       "std        0.847919\n",
       "min        1.000000\n",
       "25%        1.000000\n",
       "50%        2.000000\n",
       "75%        2.000000\n",
       "max        4.000000\n",
       "Name: studytime, dtype: float64"
      ]
     },
     "metadata": {},
     "output_type": "display_data"
    },
    {
     "name": "stdout",
     "output_type": "stream",
     "text": [
      "------------------------------------------\n",
      "Column name: failures Type: float64\n",
      "[ 0.  3.  2.  1. nan]\n"
     ]
    },
    {
     "data": {
      "text/plain": [
       "0.0    254\n",
       "1.0     41\n",
       "3.0     14\n",
       "2.0     12\n",
       "Name: failures, dtype: int64"
      ]
     },
     "metadata": {},
     "output_type": "display_data"
    },
    {
     "name": "stdout",
     "output_type": "stream",
     "text": [
      "Rows with empty values: 16\n",
      "Column name: failures Type: float64\n"
     ]
    },
    {
     "data": {
      "text/plain": [
       "count    321.000000\n",
       "mean       0.333333\n",
       "std        0.748610\n",
       "min        0.000000\n",
       "25%        0.000000\n",
       "50%        0.000000\n",
       "75%        0.000000\n",
       "max        3.000000\n",
       "Name: failures, dtype: float64"
      ]
     },
     "metadata": {},
     "output_type": "display_data"
    },
    {
     "name": "stdout",
     "output_type": "stream",
     "text": [
      "------------------------------------------\n",
      "Column name: schoolsup Type: object\n",
      "['yes' 'no' nan]\n"
     ]
    },
    {
     "data": {
      "text/plain": [
       "no     271\n",
       "yes     42\n",
       "Name: schoolsup, dtype: int64"
      ]
     },
     "metadata": {},
     "output_type": "display_data"
    },
    {
     "name": "stdout",
     "output_type": "stream",
     "text": [
      "Rows with empty values: 8\n",
      "------------------------------------------\n",
      "Column name: famsup Type: object\n",
      "['no' 'yes' nan]\n"
     ]
    },
    {
     "data": {
      "text/plain": [
       "yes    176\n",
       "no     115\n",
       "Name: famsup, dtype: int64"
      ]
     },
     "metadata": {},
     "output_type": "display_data"
    },
    {
     "name": "stdout",
     "output_type": "stream",
     "text": [
      "Rows with empty values: 30\n",
      "------------------------------------------\n",
      "Column name: paid Type: object\n",
      "['no' nan 'yes']\n"
     ]
    },
    {
     "data": {
      "text/plain": [
       "no     164\n",
       "yes    126\n",
       "Name: paid, dtype: int64"
      ]
     },
     "metadata": {},
     "output_type": "display_data"
    },
    {
     "name": "stdout",
     "output_type": "stream",
     "text": [
      "Rows with empty values: 31\n",
      "------------------------------------------\n",
      "Column name: activities Type: object\n",
      "['no' 'yes' nan]\n"
     ]
    },
    {
     "data": {
      "text/plain": [
       "yes    158\n",
       "no     151\n",
       "Name: activities, dtype: int64"
      ]
     },
     "metadata": {},
     "output_type": "display_data"
    },
    {
     "name": "stdout",
     "output_type": "stream",
     "text": [
      "Rows with empty values: 12\n",
      "------------------------------------------\n",
      "Column name: nursery Type: object\n",
      "['yes' 'no' nan]\n"
     ]
    },
    {
     "data": {
      "text/plain": [
       "yes    241\n",
       "no      64\n",
       "Name: nursery, dtype: int64"
      ]
     },
     "metadata": {},
     "output_type": "display_data"
    },
    {
     "name": "stdout",
     "output_type": "stream",
     "text": [
      "Rows with empty values: 16\n",
      "------------------------------------------\n",
      "Column name: studytime_granular Type: float64\n",
      "[ -6.  -9.  -3. -12.]\n"
     ]
    },
    {
     "data": {
      "text/plain": [
       "-6.0     161\n",
       "-3.0      85\n",
       "-9.0      53\n",
       "-12.0     22\n",
       "Name: studytime_granular, dtype: int64"
      ]
     },
     "metadata": {},
     "output_type": "display_data"
    },
    {
     "name": "stdout",
     "output_type": "stream",
     "text": [
      "Column name: studytime_granular Type: float64\n"
     ]
    },
    {
     "data": {
      "text/plain": [
       "count    321.000000\n",
       "mean      -6.112150\n",
       "std        2.518657\n",
       "min      -12.000000\n",
       "25%       -6.000000\n",
       "50%       -6.000000\n",
       "75%       -3.000000\n",
       "max       -3.000000\n",
       "Name: studytime_granular, dtype: float64"
      ]
     },
     "metadata": {},
     "output_type": "display_data"
    },
    {
     "name": "stdout",
     "output_type": "stream",
     "text": [
      "------------------------------------------\n",
      "Column name: higher Type: object\n",
      "['yes' nan 'no']\n"
     ]
    },
    {
     "data": {
      "text/plain": [
       "yes    293\n",
       "no      16\n",
       "Name: higher, dtype: int64"
      ]
     },
     "metadata": {},
     "output_type": "display_data"
    },
    {
     "name": "stdout",
     "output_type": "stream",
     "text": [
      "Rows with empty values: 12\n",
      "------------------------------------------\n",
      "Column name: internet Type: object\n",
      "[nan 'yes' 'no']\n"
     ]
    },
    {
     "data": {
      "text/plain": [
       "yes    251\n",
       "no      44\n",
       "Name: internet, dtype: int64"
      ]
     },
     "metadata": {},
     "output_type": "display_data"
    },
    {
     "name": "stdout",
     "output_type": "stream",
     "text": [
      "Rows with empty values: 26\n",
      "------------------------------------------\n",
      "Column name: romantic Type: object\n",
      "['no' nan 'yes']\n"
     ]
    },
    {
     "data": {
      "text/plain": [
       "no     199\n",
       "yes    103\n",
       "Name: romantic, dtype: int64"
      ]
     },
     "metadata": {},
     "output_type": "display_data"
    },
    {
     "name": "stdout",
     "output_type": "stream",
     "text": [
      "Rows with empty values: 19\n",
      "------------------------------------------\n",
      "Column name: famrel Type: float64\n",
      "[ 4.  5.  3. nan -1.  2.  1.]\n"
     ]
    },
    {
     "data": {
      "text/plain": [
       " 4.0    153\n",
       " 5.0     75\n",
       " 3.0     50\n",
       " 2.0     15\n",
       " 1.0      5\n",
       "-1.0      1\n",
       "Name: famrel, dtype: int64"
      ]
     },
     "metadata": {},
     "output_type": "display_data"
    },
    {
     "name": "stdout",
     "output_type": "stream",
     "text": [
      "Rows with empty values: 22\n",
      "Column name: famrel Type: float64\n"
     ]
    },
    {
     "data": {
      "text/plain": [
       "count    299.000000\n",
       "mean       3.916388\n",
       "std        0.921244\n",
       "min       -1.000000\n",
       "25%        4.000000\n",
       "50%        4.000000\n",
       "75%        4.500000\n",
       "max        5.000000\n",
       "Name: famrel, dtype: float64"
      ]
     },
     "metadata": {},
     "output_type": "display_data"
    },
    {
     "name": "stdout",
     "output_type": "stream",
     "text": [
      "------------------------------------------\n",
      "Column name: freetime Type: float64\n",
      "[ 3.  2.  4.  1.  5. nan]\n"
     ]
    },
    {
     "data": {
      "text/plain": [
       "3.0    116\n",
       "4.0     84\n",
       "2.0     49\n",
       "5.0     28\n",
       "1.0     14\n",
       "Name: freetime, dtype: int64"
      ]
     },
     "metadata": {},
     "output_type": "display_data"
    },
    {
     "name": "stdout",
     "output_type": "stream",
     "text": [
      "Rows with empty values: 8\n",
      "Column name: freetime Type: float64\n"
     ]
    },
    {
     "data": {
      "text/plain": [
       "count    291.000000\n",
       "mean       3.216495\n",
       "std        0.995439\n",
       "min        1.000000\n",
       "25%        3.000000\n",
       "50%        3.000000\n",
       "75%        4.000000\n",
       "max        5.000000\n",
       "Name: freetime, dtype: float64"
      ]
     },
     "metadata": {},
     "output_type": "display_data"
    },
    {
     "name": "stdout",
     "output_type": "stream",
     "text": [
      "------------------------------------------\n",
      "Column name: goout Type: float64\n",
      "[ 4.  3.  2.  1.  5. nan]\n"
     ]
    },
    {
     "data": {
      "text/plain": [
       "3.0    100\n",
       "2.0     71\n",
       "4.0     62\n",
       "5.0     37\n",
       "1.0     15\n",
       "Name: goout, dtype: int64"
      ]
     },
     "metadata": {},
     "output_type": "display_data"
    },
    {
     "name": "stdout",
     "output_type": "stream",
     "text": [
      "Rows with empty values: 6\n",
      "Column name: goout Type: float64\n"
     ]
    },
    {
     "data": {
      "text/plain": [
       "count    285.000000\n",
       "mean       3.122807\n",
       "std        1.088839\n",
       "min        1.000000\n",
       "25%        2.000000\n",
       "50%        3.000000\n",
       "75%        4.000000\n",
       "max        5.000000\n",
       "Name: goout, dtype: float64"
      ]
     },
     "metadata": {},
     "output_type": "display_data"
    },
    {
     "name": "stdout",
     "output_type": "stream",
     "text": [
      "------------------------------------------\n",
      "Column name: health Type: float64\n",
      "[ 3.  5.  1.  2.  4. nan]\n"
     ]
    },
    {
     "data": {
      "text/plain": [
       "5.0    87\n",
       "3.0    69\n",
       "4.0    49\n",
       "2.0    35\n",
       "1.0    35\n",
       "Name: health, dtype: int64"
      ]
     },
     "metadata": {},
     "output_type": "display_data"
    },
    {
     "name": "stdout",
     "output_type": "stream",
     "text": [
      "Rows with empty values: 10\n",
      "Column name: health Type: float64\n"
     ]
    },
    {
     "data": {
      "text/plain": [
       "count    275.000000\n",
       "mean       3.429091\n",
       "std        1.379420\n",
       "min        1.000000\n",
       "25%        2.000000\n",
       "50%        3.000000\n",
       "75%        5.000000\n",
       "max        5.000000\n",
       "Name: health, dtype: float64"
      ]
     },
     "metadata": {},
     "output_type": "display_data"
    },
    {
     "name": "stdout",
     "output_type": "stream",
     "text": [
      "------------------------------------------\n",
      "Column name: absences Type: float64\n",
      "[  6.   4.  10.   2.   0.  16.  nan  14.   8.  25.  12.  26.  18.  56.\n",
      "  24.  28.   5.  13.  15.  22.   3. 385.  20.  21.   1.   9.  38.  40.\n",
      "   7.  17. 212.]\n"
     ]
    },
    {
     "data": {
      "text/plain": [
       "0.0      78\n",
       "4.0      41\n",
       "2.0      38\n",
       "6.0      19\n",
       "8.0      17\n",
       "10.0     12\n",
       "12.0      8\n",
       "14.0      8\n",
       "16.0      7\n",
       "3.0       6\n",
       "5.0       4\n",
       "7.0       3\n",
       "1.0       2\n",
       "22.0      2\n",
       "9.0       2\n",
       "18.0      2\n",
       "15.0      2\n",
       "20.0      2\n",
       "28.0      1\n",
       "38.0      1\n",
       "212.0     1\n",
       "21.0      1\n",
       "40.0      1\n",
       "26.0      1\n",
       "13.0      1\n",
       "385.0     1\n",
       "25.0      1\n",
       "24.0      1\n",
       "56.0      1\n",
       "17.0      1\n",
       "Name: absences, dtype: int64"
      ]
     },
     "metadata": {},
     "output_type": "display_data"
    },
    {
     "name": "stdout",
     "output_type": "stream",
     "text": [
      "Rows with empty values: 10\n",
      "Column name: absences Type: float64\n"
     ]
    },
    {
     "data": {
      "text/plain": [
       "count    265.000000\n",
       "mean       7.713208\n",
       "std       27.439065\n",
       "min        0.000000\n",
       "25%        0.000000\n",
       "50%        4.000000\n",
       "75%        8.000000\n",
       "max      385.000000\n",
       "Name: absences, dtype: float64"
      ]
     },
     "metadata": {},
     "output_type": "display_data"
    },
    {
     "name": "stdout",
     "output_type": "stream",
     "text": [
      "25-й перцентиль: 0.0, 75-й перцентиль: 8.0, IQR: 8.0,  Границы выбросов: [-12.0, 20.0].\n",
      "Rows with outliers: 12\n",
      "------------------------------------------\n",
      "Column name: score Type: float64\n",
      "[ 30.  50.  75.  55.  45.  60.  80.  70.  25.  40.  85.  90.  65. 100.\n",
      "  35.  95.   0.  20.  nan]\n"
     ]
    },
    {
     "name": "stderr",
     "output_type": "stream",
     "text": [
      "<ipython-input-65-54d7d8023e6e>:81: SettingWithCopyWarning: \n",
      "A value is trying to be set on a copy of a slice from a DataFrame.\n",
      "Try using .loc[row_indexer,col_indexer] = value instead\n",
      "\n",
      "See the caveats in the documentation: https://pandas.pydata.org/pandas-docs/stable/user_guide/indexing.html#returning-a-view-versus-a-copy\n",
      "  stud_math[col] = stud_math[col].loc[stud_math[col].between(\n"
     ]
    },
    {
     "data": {
      "text/plain": [
       "50.0     37\n",
       "55.0     34\n",
       "0.0      23\n",
       "70.0     22\n",
       "60.0     22\n",
       "40.0     22\n",
       "65.0     21\n",
       "45.0     19\n",
       "75.0     19\n",
       "80.0     11\n",
       "30.0     10\n",
       "90.0      7\n",
       "35.0      6\n",
       "25.0      4\n",
       "95.0      2\n",
       "85.0      2\n",
       "20.0      1\n",
       "100.0     1\n",
       "Name: score, dtype: int64"
      ]
     },
     "metadata": {},
     "output_type": "display_data"
    },
    {
     "name": "stdout",
     "output_type": "stream",
     "text": [
      "Rows with empty values: 2\n",
      "Column name: score Type: float64\n"
     ]
    },
    {
     "data": {
      "text/plain": [
       "count    263.000000\n",
       "mean      52.110266\n",
       "std       21.956220\n",
       "min        0.000000\n",
       "25%       42.500000\n",
       "50%       55.000000\n",
       "75%       65.000000\n",
       "max      100.000000\n",
       "Name: score, dtype: float64"
      ]
     },
     "metadata": {},
     "output_type": "display_data"
    },
    {
     "name": "stdout",
     "output_type": "stream",
     "text": [
      "25-й перцентиль: 42.5, 75-й перцентиль: 65.0, IQR: 22.5,  Границы выбросов: [8.75, 98.75].\n",
      "Rows with outliers: 24\n",
      "------------------------------------------\n"
     ]
    },
    {
     "name": "stderr",
     "output_type": "stream",
     "text": [
      "<ipython-input-65-54d7d8023e6e>:81: SettingWithCopyWarning: \n",
      "A value is trying to be set on a copy of a slice from a DataFrame.\n",
      "Try using .loc[row_indexer,col_indexer] = value instead\n",
      "\n",
      "See the caveats in the documentation: https://pandas.pydata.org/pandas-docs/stable/user_guide/indexing.html#returning-a-view-versus-a-copy\n",
      "  stud_math[col] = stud_math[col].loc[stud_math[col].between(\n"
     ]
    },
    {
     "data": {
      "text/html": [
       "<div>\n",
       "<style scoped>\n",
       "    .dataframe tbody tr th:only-of-type {\n",
       "        vertical-align: middle;\n",
       "    }\n",
       "\n",
       "    .dataframe tbody tr th {\n",
       "        vertical-align: top;\n",
       "    }\n",
       "\n",
       "    .dataframe thead th {\n",
       "        text-align: right;\n",
       "    }\n",
       "</style>\n",
       "<table border=\"1\" class=\"dataframe\">\n",
       "  <thead>\n",
       "    <tr style=\"text-align: right;\">\n",
       "      <th></th>\n",
       "      <th>rows_with_empty_values</th>\n",
       "    </tr>\n",
       "  </thead>\n",
       "  <tbody>\n",
       "    <tr>\n",
       "      <th>count</th>\n",
       "      <td>15.000000</td>\n",
       "    </tr>\n",
       "    <tr>\n",
       "      <th>mean</th>\n",
       "      <td>22.800000</td>\n",
       "    </tr>\n",
       "    <tr>\n",
       "      <th>std</th>\n",
       "      <td>10.086766</td>\n",
       "    </tr>\n",
       "    <tr>\n",
       "      <th>min</th>\n",
       "      <td>8.000000</td>\n",
       "    </tr>\n",
       "    <tr>\n",
       "      <th>25%</th>\n",
       "      <td>16.000000</td>\n",
       "    </tr>\n",
       "    <tr>\n",
       "      <th>50%</th>\n",
       "      <td>19.000000</td>\n",
       "    </tr>\n",
       "    <tr>\n",
       "      <th>75%</th>\n",
       "      <td>30.000000</td>\n",
       "    </tr>\n",
       "    <tr>\n",
       "      <th>max</th>\n",
       "      <td>45.000000</td>\n",
       "    </tr>\n",
       "  </tbody>\n",
       "</table>\n",
       "</div>"
      ],
      "text/plain": [
       "       rows_with_empty_values\n",
       "count               15.000000\n",
       "mean                22.800000\n",
       "std                 10.086766\n",
       "min                  8.000000\n",
       "25%                 16.000000\n",
       "50%                 19.000000\n",
       "75%                 30.000000\n",
       "max                 45.000000"
      ]
     },
     "metadata": {},
     "output_type": "display_data"
    },
    {
     "data": {
      "text/html": [
       "<div>\n",
       "<style scoped>\n",
       "    .dataframe tbody tr th:only-of-type {\n",
       "        vertical-align: middle;\n",
       "    }\n",
       "\n",
       "    .dataframe tbody tr th {\n",
       "        vertical-align: top;\n",
       "    }\n",
       "\n",
       "    .dataframe thead th {\n",
       "        text-align: right;\n",
       "    }\n",
       "</style>\n",
       "<table border=\"1\" class=\"dataframe\">\n",
       "  <thead>\n",
       "    <tr style=\"text-align: right;\">\n",
       "      <th></th>\n",
       "      <th>rows_with_outliers</th>\n",
       "    </tr>\n",
       "  </thead>\n",
       "  <tbody>\n",
       "    <tr>\n",
       "      <th>count</th>\n",
       "      <td>3.000000</td>\n",
       "    </tr>\n",
       "    <tr>\n",
       "      <th>mean</th>\n",
       "      <td>12.333333</td>\n",
       "    </tr>\n",
       "    <tr>\n",
       "      <th>std</th>\n",
       "      <td>11.503623</td>\n",
       "    </tr>\n",
       "    <tr>\n",
       "      <th>min</th>\n",
       "      <td>1.000000</td>\n",
       "    </tr>\n",
       "    <tr>\n",
       "      <th>25%</th>\n",
       "      <td>6.500000</td>\n",
       "    </tr>\n",
       "    <tr>\n",
       "      <th>50%</th>\n",
       "      <td>12.000000</td>\n",
       "    </tr>\n",
       "    <tr>\n",
       "      <th>75%</th>\n",
       "      <td>18.000000</td>\n",
       "    </tr>\n",
       "    <tr>\n",
       "      <th>max</th>\n",
       "      <td>24.000000</td>\n",
       "    </tr>\n",
       "  </tbody>\n",
       "</table>\n",
       "</div>"
      ],
      "text/plain": [
       "       rows_with_outliers\n",
       "count            3.000000\n",
       "mean            12.333333\n",
       "std             11.503623\n",
       "min              1.000000\n",
       "25%              6.500000\n",
       "50%             12.000000\n",
       "75%             18.000000\n",
       "max             24.000000"
      ]
     },
     "metadata": {},
     "output_type": "display_data"
    },
    {
     "name": "stdout",
     "output_type": "stream",
     "text": [
      "Количество строк после фильтрации строк с выбросами или пустыми значениями: 263 67.0\n"
     ]
    }
   ],
   "source": [
    "# список с названиями полей и количествами строк с пустых значениями\n",
    "rows_with_empty_values_counts = []\n",
    "\n",
    "# список с названиями полей и количествами строк с выбросами\n",
    "rows_with_outliers_counts = []\n",
    "\n",
    "for col in stud_math.columns:\n",
    "    # перебираем названия полей\n",
    "    if stud_math[col].dtype == 'object':\n",
    "        rows_with_empty_value_count = show_field_info(stud_math, col)\n",
    "\n",
    "        if rows_with_empty_value_count > 0:\n",
    "            # записываем поле с количеством строк с пустыми значениями\n",
    "            rows_with_empty_values_counts.append(rows_with_empty_value_count)\n",
    "    elif stud_math[col].dtype in ['int64', 'float64']:\n",
    "        outliers_data = show_field_info(stud_math, col)\n",
    "\n",
    "        # присваиваем отфильтрованные данные\n",
    "        stud_math = outliers_data[1]\n",
    "\n",
    "        if outliers_data[0] > 0:\n",
    "            # запоминаем количество строк с выбросами поля\n",
    "            rows_with_outliers_counts.append(outliers_data[0])\n",
    "\n",
    "\n",
    "if len(rows_with_empty_values_counts) > 0 or len(rows_with_outliers_counts):\n",
    "    # создаём новый датафрейм\n",
    "    df = pd.DataFrame(\n",
    "        {'rows_with_empty_values': rows_with_empty_values_counts})\n",
    "    display(df.describe())\n",
    "\n",
    "    df = pd.DataFrame({'rows_with_outliers': rows_with_outliers_counts})\n",
    "    display(df.describe())\n",
    "\n",
    "# Show current rows count in dataframe after outliers and empty values removal\n",
    "print(\"Количество строк после фильтрации строк с выбросами или пустыми значениями:\", len(\n",
    "    stud_math), round(len(stud_math) / initial_data_length, 2) * 100)"
   ]
  },
  {
   "cell_type": "markdown",
   "id": "46f4b73e",
   "metadata": {},
   "source": [
    "### Выводы о полях"
   ]
  },
  {
   "cell_type": "markdown",
   "id": "4299a616",
   "metadata": {},
   "source": [
    "*school* - Во всех строках присутсвуют значения. Уникальных значений 2. Больше всего значений \"GP\".<br>\n",
    "*sex* - Во всех строках присутсвуют значения. Уникальных значений 2. Количество каждых значений примерно одинаково. Количество значений \"F\" не намного превышает значения \"M\".<br>\n",
    "*age* - Во всех строках присутсвуют значения. Присутствует одна строка с выбросом (значение 22).<br>\n",
    "*address* - В наборе данных присутствует 17 строк с пустым значением этого поля. Уникальных значений 2. Больше всего значений \"U\".<br>\n",
    "*famsize* - В наборе данных присутствует 27 строк с пустым значением этого поля. Уникальных значений 2. Больше всего значений \"GT3\".<br>\n",
    "*Pstatus* - В наборе данных присутствует 45 строк с пустым значением этого поля. Уникальных значений 2. Больше всего значений \"T\".<br>\n",
    "*Medu* - В наборе данных присутствует 3 строки с пустым значением этого поля. Программа считала выбросы, но так как в поле числовые коды, а не количество чего-то, поэтому высчитывание выбросов не имеет смысла.<br>\n",
    "*Fedu* - В наборе данных присутствует 24 строки с пустым значением этого поля. Программа считала выбросы, но так как в поле числовые коды, а не количество чего-то, поэтому высчитывание выбросов не имеет смысла. Присутствует значение (40) заметно превышающее в задании описанные значения. Такое значение можно трактовать как ошибку и вписать значение 4.<br>\n",
    "*Mjob* - В наборе данных присутствует 19 строк с пустым значением этого поля. Уникальных значений 5. Больше всего значений \"other\".<br>\n",
    "*Fjob* - В наборе данных присутствует 34 строки с пустым значением этого поля. Уникальных значений 5. Больше всего значений \"other\".<br>\n",
    "*reason* - В наборе данных присутствует 16 строк с пустым значением этого поля. Уникальных значений 4. Больше всего значений \"course\".<br>\n",
    "*guardian* - В наборе данных присутствует 30 строк с пустым значением этого поля. Уникальных значений 3. Больше всего значений \"mother\".<br>\n",
    "*traveltime* - В наборе данных присутствует 25 строк с пустым значением этого поля. Программа считала выбросы, но так как в поле числовые коды, а не количество чего-то, поэтому высчитывание выбросов не имеет смысла. Программа удалила 7 строк с выбросами. Позже они будут восстановлены.<br>\n",
    "*studytime* - В наборе данных присутствует 6 строк с пустым значением этого поля. Программа считала выбросы, но так как в поле числовые коды, а не количество чего-то, поэтому высчитывание выбросов не имеет смысла. Программа удалила 24 строк с выбросами. Позже они будут восстановлены.<br>\n",
    "*failures* - В наборе данных присутствует 16 строк с пустым значением этого поля. Программа считала выбросы, но так как в поле числовые коды, а не количество чего-то, поэтому высчитывание выбросов не имеет смысла. Программа удалила 67 строк с выбросами. Позже они будут восстановлены.<br>\n",
    "*schoolsup* - В наборе данных присутствует 8 строки с пустым значением этого поля. Уникальных значений 2. Больше всего значений \"no\".<br>\n",
    "*famsup* - В наборе данных присутствует 30 строки с пустым значением этого поля. Уникальных значений 2. Больше всего значений \"yes\".<br>\n",
    "*paid* - В наборе данных присутствует 31 строки с пустым значением этого поля. Уникальных значений 2. Больше всего значений \"no\".<br>\n",
    "*activities* - В наборе данных присутствует 12 строки с пустым значением этого поля. Уникальных значений 2. Больше всего значений \"yes\".<br>\n",
    "*nursery* - В наборе данных присутствует 16 строки с пустым значением этого поля. Уникальных значений 2. Больше всего значений \"yes\".<br>\n",
    "*studytime_granular* - В наборе данных нет строк с пустыми значениями. В задании отсутствует описание поля, поэтому остаётся делать предположения длч чего это поле.<br>\n",
    "*higher* - В наборе данных присутствует 12 строки с пустым значением этого поля. Уникальных значений 2. Больше всего значений \"yes\".<br>\n",
    "*internet* - В наборе данных присутствует 26 строки с пустым значением этого поля. Уникальных значений 2. Больше всего значений \"yes\".<br>\n",
    "*romantic* - В наборе данных присутствует 19 строки с пустым значением этого поля. Уникальных значений 2. Больше всего значений \"no\".<br>\n",
    "*famrel* - В наборе данных присутствует 22 строки с пустым значением этого поля. Программа считала выбросы, но так как в поле числовые коды, а не количество чего-то, поэтому высчитывание выбросов не имеет смысла. Программа удалила 71 строк с выбросами. Позже они будут восстановлены.<br>\n",
    "*freetime* - В наборе данных присутствует 8 строк с пустым значением этого поля. Программа считала выбросы, но так как в поле числовые коды, а не количество чего-то, поэтому высчитывание выбросов не имеет смысла. Программа удалила 14 строк с выбросами. Позже они будут восстановлены.<br>\n",
    "*goout* - В наборе данных присутствует 6 строк с пустым значением этого поля. Программа считала выбросы, но так как в поле числовые коды, а не количество чего-то, поэтому высчитывание выбросов не имеет смысла.<br>\n",
    "*health* - В наборе данных присутствует 10 строк с пустым значением этого поля. Программа считала выбросы, но так как в поле числовые коды, а не количество чего-то, поэтому высчитывание выбросов не имеет смысла.<br>\n",
    "*absences* - В наборе данных присутствует 10 строк с пустым значением этого поля и 12 строк с выбросами.<br>\n",
    "*score* - В наборе данных присутствует 2 строки с пустым значением этого поля и 24 строк с выбросами.\n",
    "<br><br>\n",
    "После удаления строк с пустыми значениями и выбросми, остался набор данных с 67 процентами строк от первоначального.<br>\n",
    "Так как данных осталось слишком мало, будет востановлен весь набор данных, кроме строки с выбросом в поле возраста (возраст 22)."
   ]
  },
  {
   "cell_type": "code",
   "execution_count": 67,
   "id": "8903c48a",
   "metadata": {},
   "outputs": [
    {
     "data": {
      "text/plain": [
       "count    370.000000\n",
       "mean       2.521622\n",
       "std        1.087409\n",
       "min        0.000000\n",
       "25%        2.000000\n",
       "50%        2.500000\n",
       "75%        3.000000\n",
       "max        4.000000\n",
       "Name: Fedu, dtype: float64"
      ]
     },
     "execution_count": 67,
     "metadata": {},
     "output_type": "execute_result"
    }
   ],
   "source": [
    "# востанавливаем строку где значение поля Fedu 40 и заменяем его на 4\n",
    "stud_math = init_data()\n",
    "\n",
    "# удаляем строку с выбросом по возрасту (22). Строка с выбросом была удалена ранее\n",
    "stud_math = stud_math.loc[stud_math.age < 22]\n",
    "\n",
    "# заменяем значение 40 в поле Fedu на значение 4\n",
    "stud_math.Fedu = stud_math.Fedu.apply(lambda x: 4 if x > 4 else x)\n",
    "\n",
    "# проверка исправленных данных\n",
    "stud_math.Fedu.describe()"
   ]
  },
  {
   "cell_type": "markdown",
   "id": "53cb565a",
   "metadata": {},
   "source": [
    "## 3. Заполнение пустых значений в полях"
   ]
  },
  {
   "cell_type": "code",
   "execution_count": 68,
   "id": "afe47a9f",
   "metadata": {},
   "outputs": [],
   "source": [
    "# заполняем пустые значения в полях.\n",
    "# Берутся значения с максимальным количеством среди уникальных значений\n",
    "non_empty_values = {\n",
    "    'address': 'U',\n",
    "    'famsize': 'GT3',\n",
    "    'Medu': 4,\n",
    "\n",
    "    'Fedu': 2,\n",
    "    'Mjob': 'other',\n",
    "    'Fjob': 'other',\n",
    "\n",
    "    'reason': 'course',\n",
    "    'guardian': 'mother',\n",
    "    'traveltime': 1,\n",
    "\n",
    "    'studytime': 2,\n",
    "    'studytime': 2,\n",
    "    'failures': 0,\n",
    "\n",
    "    'schoolsup': 'no',\n",
    "    'famsup': 'yes',\n",
    "    'paid': 'no',\n",
    "\n",
    "    'activities': 'yes',\n",
    "    'nursery': 'yes',\n",
    "    'studytime_granular': -6,\n",
    "\n",
    "    'famrel': 4,\n",
    "    'freetime': 3,\n",
    "    'goout': 3,\n",
    "\n",
    "    'health': 5,\n",
    "    'absences': 0,\n",
    "    'score': 50\n",
    "}\n",
    "\n",
    "stud_math.fillna(value=non_empty_values, inplace=True)"
   ]
  },
  {
   "cell_type": "code",
   "execution_count": 69,
   "id": "3a9ade72",
   "metadata": {},
   "outputs": [
    {
     "data": {
      "text/plain": [
       "count    394.000000\n",
       "mean      52.258883\n",
       "std       22.766074\n",
       "min        0.000000\n",
       "25%       41.250000\n",
       "50%       55.000000\n",
       "75%       70.000000\n",
       "max      100.000000\n",
       "Name: score, dtype: float64"
      ]
     },
     "execution_count": 69,
     "metadata": {},
     "output_type": "execute_result"
    },
    {
     "data": {
      "image/png": "[encoded data removed]",
      "text/plain": [
       "<Figure size 432x288 with 1 Axes>"
      ]
     },
     "metadata": {
      "needs_background": "light"
     },
     "output_type": "display_data"
    }
   ],
   "source": [
    "# просматриваем истограмму значений поля score\n",
    "stud_math.score.hist()\n",
    "stud_math.score.describe()"
   ]
  },
  {
   "cell_type": "markdown",
   "id": "16c5fc8e",
   "metadata": {},
   "source": [
    "Значение поля набранных очков находятся в рамках допустимых (от 0 до 100)"
   ]
  },
  {
   "cell_type": "code",
   "execution_count": 51,
   "id": "f9f16b15",
   "metadata": {},
   "outputs": [
    {
     "name": "stdout",
     "output_type": "stream",
     "text": [
      "<class 'pandas.core.frame.DataFrame'>\n",
      "Int64Index: 394 entries, 0 to 394\n",
      "Data columns (total 30 columns):\n",
      " #   Column              Non-Null Count  Dtype  \n",
      "---  ------              --------------  -----  \n",
      " 0   school              394 non-null    object \n",
      " 1   sex                 394 non-null    object \n",
      " 2   age                 394 non-null    int64  \n",
      " 3   address             394 non-null    object \n",
      " 4   famsize             394 non-null    object \n",
      " 5   Pstatus             349 non-null    object \n",
      " 6   Medu                394 non-null    object \n",
      " 7   Fedu                394 non-null    object \n",
      " 8   Mjob                394 non-null    object \n",
      " 9   Fjob                394 non-null    object \n",
      " 10  reason              394 non-null    object \n",
      " 11  guardian            394 non-null    object \n",
      " 12  traveltime          394 non-null    object \n",
      " 13  studytime           394 non-null    object \n",
      " 14  failures            394 non-null    object \n",
      " 15  schoolsup           394 non-null    object \n",
      " 16  famsup              394 non-null    object \n",
      " 17  paid                394 non-null    object \n",
      " 18  activities          394 non-null    object \n",
      " 19  nursery             394 non-null    object \n",
      " 20  studytime_granular  394 non-null    object \n",
      " 21  higher              374 non-null    object \n",
      " 22  internet            360 non-null    object \n",
      " 23  romantic            363 non-null    object \n",
      " 24  famrel              394 non-null    object \n",
      " 25  freetime            394 non-null    object \n",
      " 26  goout               394 non-null    object \n",
      " 27  health              394 non-null    object \n",
      " 28  absences            394 non-null    float64\n",
      " 29  score               394 non-null    float64\n",
      "dtypes: float64(2), int64(1), object(27)\n",
      "memory usage: 95.4+ KB\n"
     ]
    }
   ],
   "source": [
    "# конвертируем значения полей Fedu, Medu, traveltime, studytime, studytime_granular, failures, famrel, freetime,\n",
    "# goout, health fields values в строки для отброса их при корреляционном анализе\n",
    "\n",
    "coded_columns = ['Medu', 'Fedu', 'traveltime', 'studytime', 'studytime_granular',\n",
    "                 'failures', 'famrel', 'freetime', 'goout', 'health']\n",
    "\n",
    "# перебираем поля\n",
    "for col in coded_columns:\n",
    "    stud_math[col] = stud_math[col].apply(lambda x: str(x))\n",
    "\n",
    "# просматриваем информацию о датафрецме\n",
    "stud_math.info()"
   ]
  },
  {
   "cell_type": "markdown",
   "id": "9d6cb5f1",
   "metadata": {},
   "source": [
    "## 4. Корреляционный анализ количестенных полей. Промежуточные выводы после анализа"
   ]
  },
  {
   "cell_type": "code",
   "execution_count": 54,
   "id": "975f1475",
   "metadata": {},
   "outputs": [
    {
     "data": {
      "text/html": [
       "<div>\n",
       "<style scoped>\n",
       "    .dataframe tbody tr th:only-of-type {\n",
       "        vertical-align: middle;\n",
       "    }\n",
       "\n",
       "    .dataframe tbody tr th {\n",
       "        vertical-align: top;\n",
       "    }\n",
       "\n",
       "    .dataframe thead th {\n",
       "        text-align: right;\n",
       "    }\n",
       "</style>\n",
       "<table border=\"1\" class=\"dataframe\">\n",
       "  <thead>\n",
       "    <tr style=\"text-align: right;\">\n",
       "      <th></th>\n",
       "      <th>age</th>\n",
       "      <th>absences</th>\n",
       "      <th>score</th>\n",
       "    </tr>\n",
       "  </thead>\n",
       "  <tbody>\n",
       "    <tr>\n",
       "      <th>age</th>\n",
       "      <td>1.000000</td>\n",
       "      <td>0.088409</td>\n",
       "      <td>-0.152778</td>\n",
       "    </tr>\n",
       "    <tr>\n",
       "      <th>absences</th>\n",
       "      <td>0.088409</td>\n",
       "      <td>1.000000</td>\n",
       "      <td>0.061705</td>\n",
       "    </tr>\n",
       "    <tr>\n",
       "      <th>score</th>\n",
       "      <td>-0.152778</td>\n",
       "      <td>0.061705</td>\n",
       "      <td>1.000000</td>\n",
       "    </tr>\n",
       "  </tbody>\n",
       "</table>\n",
       "</div>"
      ],
      "text/plain": [
       "               age  absences     score\n",
       "age       1.000000  0.088409 -0.152778\n",
       "absences  0.088409  1.000000  0.061705\n",
       "score    -0.152778  0.061705  1.000000"
      ]
     },
     "execution_count": 54,
     "metadata": {},
     "output_type": "execute_result"
    }
   ],
   "source": [
    "# выполняем корреляционый анализ\n",
    "stud_math.corr()"
   ]
  },
  {
   "cell_type": "markdown",
   "id": "85bdd700",
   "metadata": {},
   "source": [
    "### Выводы о корреляционном анализе"
   ]
  },
  {
   "cell_type": "markdown",
   "id": "69d3c351",
   "metadata": {},
   "source": [
    "Выполнив корреляционный анализ количественных столбцов, не выявлено линейных зависимостей между значений столбцов."
   ]
  },
  {
   "cell_type": "markdown",
   "id": "baf0dbe6",
   "metadata": {},
   "source": [
    "## 5. Выявление статистической разницы в распределении количества очков по экзамену по математике по номинативным параметрам"
   ]
  },
  {
   "cell_type": "code",
   "execution_count": 55,
   "id": "f56ad5e1",
   "metadata": {},
   "outputs": [],
   "source": [
    "# Проверим, есть ли статистические разности в распределении набранных очков по номинативным признакам,\n",
    "# с помощью теста Стьюдента\n",
    "for col in stud_math.columns:\n",
    "    if stud_math[col].dtype == 'object':\n",
    "        get_stat_dif(stud_math, col, 0.01)"
   ]
  },
  {
   "cell_type": "markdown",
   "id": "f320f8ba",
   "metadata": {},
   "source": [
    "### Выводы выполнив тест Стьюдента"
   ]
  },
  {
   "cell_type": "markdown",
   "id": "d3a856d9",
   "metadata": {},
   "source": [
    "Выполнив поиск статистической разницы в распределении набранных очков по экзамену по математике по номинативным параметрам, не выявлено параметров с статистической разницей в распределении по параметру."
   ]
  },
  {
   "cell_type": "markdown",
   "id": "c2aefb95",
   "metadata": {},
   "source": [
    "## 6. Выводы"
   ]
  },
  {
   "cell_type": "markdown",
   "id": "9631c3a1",
   "metadata": {},
   "source": [
    "Выполнив анализ, линейной зависимости между количеством очков на экзамене по математике и возрастом, а также количеством пропущенных дней не выявлено. Также не выявлено параметров со статисчической разницей в распределении количества очков по экзамену по математике.<br>\n",
    "### Поэтому можно делать вывод, что условия жизни не влияют на успеваемость по математике"
   ]
  },
  {
   "cell_type": "code",
   "execution_count": null,
   "id": "efb17802",
   "metadata": {},
   "outputs": [],
   "source": []
  }
 ],
 "metadata": {
  "kernelspec": {
   "display_name": "Python 3",
   "language": "python",
   "name": "python3"
  },
  "language_info": {
   "codemirror_mode": {
    "name": "ipython",
    "version": 3
   },
   "file_extension": ".py",
   "mimetype": "text/x-python",
   "name": "python",
   "nbconvert_exporter": "python",
   "pygments_lexer": "ipython3",
   "version": "3.8.8"
  }
 },
 "nbformat": 4,
 "nbformat_minor": 5
}
